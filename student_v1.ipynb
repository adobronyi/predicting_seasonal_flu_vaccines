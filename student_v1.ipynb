{
 "cells": [
  {
   "cell_type": "markdown",
   "metadata": {},
   "source": [
    "## Introduction and Business Question\n",
    "\n",
    "Implementation of seasonal flu vaccination programs play a substantial role in public health. However, in 2022, only 49% of adults are planning on obtaining a flu vaccine, despite the risks posed in forgoing it. The purpose of this project is to understand which demographics are least likely to get a flu vaccine, in order for officials to better target those demographics and utilize limited marketing resources to expanding the percentage of the population that chooses to be vaccinated. \n",
    "\n",
    "The models built in this project will attempt to classify whether or not an individual is likely to be vaccinated based on collected demographic data. The models will be assessed on an overall accuracy score - whether or not an individual's tendency was correctly predicted. Though the more important target in the scope of public health would be to err on the side of conservativeness - it is better to be wrong about a person not getting the vaccine than actually thinking they will get it - the business problem here is to assess what demographics should be targeted as predictors of not getting a seasonal flu vaccine. "
   ]
  },
  {
   "cell_type": "markdown",
   "metadata": {},
   "source": [
    "## Data Cleaning and Exploration\n",
    "\n",
    "The data set used in this business is a survey of demographic information for 26,707 individuals and their decision to be vaccinated for either the H1H1 or seasonal flu vaccine. This project will focus solely on the seasonal flu vaccine. "
   ]
  },
  {
   "cell_type": "code",
   "execution_count": null,
   "metadata": {},
   "outputs": [],
   "source": [
    "# import packages\n",
    "import pandas as pd\n",
    "import numpy as np\n",
    "import math\n",
    "import seaborn as sns\n",
    "import matplotlib.pyplot as plt\n",
    "\n",
    "#from sklearn.preprocessing import OneHotEncoder\n",
    "from sklearn.linear_model import LogisticRegression\n",
    "\n",
    "from sklearn.metrics import accuracy_score,f1_score,confusion_matrix\n",
    "\n",
    "from sklearn.model_selection import cross_val_score, GridSearchCV\n",
    "\n",
    "from sklearn.ensemble import RandomForestClassifier"
   ]
  },
  {
   "cell_type": "code",
   "execution_count": 2,
   "metadata": {},
   "outputs": [
    {
     "data": {
      "text/html": [
       "<div>\n",
       "<style scoped>\n",
       "    .dataframe tbody tr th:only-of-type {\n",
       "        vertical-align: middle;\n",
       "    }\n",
       "\n",
       "    .dataframe tbody tr th {\n",
       "        vertical-align: top;\n",
       "    }\n",
       "\n",
       "    .dataframe thead th {\n",
       "        text-align: right;\n",
       "    }\n",
       "</style>\n",
       "<table border=\"1\" class=\"dataframe\">\n",
       "  <thead>\n",
       "    <tr style=\"text-align: right;\">\n",
       "      <th></th>\n",
       "      <th>respondent_id</th>\n",
       "      <th>h1n1_concern</th>\n",
       "      <th>h1n1_knowledge</th>\n",
       "      <th>behavioral_antiviral_meds</th>\n",
       "      <th>behavioral_avoidance</th>\n",
       "      <th>behavioral_face_mask</th>\n",
       "      <th>behavioral_wash_hands</th>\n",
       "      <th>behavioral_large_gatherings</th>\n",
       "      <th>behavioral_outside_home</th>\n",
       "      <th>behavioral_touch_face</th>\n",
       "      <th>...</th>\n",
       "      <th>income_poverty</th>\n",
       "      <th>marital_status</th>\n",
       "      <th>rent_or_own</th>\n",
       "      <th>employment_status</th>\n",
       "      <th>hhs_geo_region</th>\n",
       "      <th>census_msa</th>\n",
       "      <th>household_adults</th>\n",
       "      <th>household_children</th>\n",
       "      <th>employment_industry</th>\n",
       "      <th>employment_occupation</th>\n",
       "    </tr>\n",
       "  </thead>\n",
       "  <tbody>\n",
       "    <tr>\n",
       "      <th>0</th>\n",
       "      <td>0</td>\n",
       "      <td>1.0</td>\n",
       "      <td>0.0</td>\n",
       "      <td>0.0</td>\n",
       "      <td>0.0</td>\n",
       "      <td>0.0</td>\n",
       "      <td>0.0</td>\n",
       "      <td>0.0</td>\n",
       "      <td>1.0</td>\n",
       "      <td>1.0</td>\n",
       "      <td>...</td>\n",
       "      <td>Below Poverty</td>\n",
       "      <td>Not Married</td>\n",
       "      <td>Own</td>\n",
       "      <td>Not in Labor Force</td>\n",
       "      <td>oxchjgsf</td>\n",
       "      <td>Non-MSA</td>\n",
       "      <td>0.0</td>\n",
       "      <td>0.0</td>\n",
       "      <td>NaN</td>\n",
       "      <td>NaN</td>\n",
       "    </tr>\n",
       "    <tr>\n",
       "      <th>1</th>\n",
       "      <td>1</td>\n",
       "      <td>3.0</td>\n",
       "      <td>2.0</td>\n",
       "      <td>0.0</td>\n",
       "      <td>1.0</td>\n",
       "      <td>0.0</td>\n",
       "      <td>1.0</td>\n",
       "      <td>0.0</td>\n",
       "      <td>1.0</td>\n",
       "      <td>1.0</td>\n",
       "      <td>...</td>\n",
       "      <td>Below Poverty</td>\n",
       "      <td>Not Married</td>\n",
       "      <td>Rent</td>\n",
       "      <td>Employed</td>\n",
       "      <td>bhuqouqj</td>\n",
       "      <td>MSA, Not Principle  City</td>\n",
       "      <td>0.0</td>\n",
       "      <td>0.0</td>\n",
       "      <td>pxcmvdjn</td>\n",
       "      <td>xgwztkwe</td>\n",
       "    </tr>\n",
       "    <tr>\n",
       "      <th>2</th>\n",
       "      <td>2</td>\n",
       "      <td>1.0</td>\n",
       "      <td>1.0</td>\n",
       "      <td>0.0</td>\n",
       "      <td>1.0</td>\n",
       "      <td>0.0</td>\n",
       "      <td>0.0</td>\n",
       "      <td>0.0</td>\n",
       "      <td>0.0</td>\n",
       "      <td>0.0</td>\n",
       "      <td>...</td>\n",
       "      <td>&lt;= $75,000, Above Poverty</td>\n",
       "      <td>Not Married</td>\n",
       "      <td>Own</td>\n",
       "      <td>Employed</td>\n",
       "      <td>qufhixun</td>\n",
       "      <td>MSA, Not Principle  City</td>\n",
       "      <td>2.0</td>\n",
       "      <td>0.0</td>\n",
       "      <td>rucpziij</td>\n",
       "      <td>xtkaffoo</td>\n",
       "    </tr>\n",
       "    <tr>\n",
       "      <th>3</th>\n",
       "      <td>3</td>\n",
       "      <td>1.0</td>\n",
       "      <td>1.0</td>\n",
       "      <td>0.0</td>\n",
       "      <td>1.0</td>\n",
       "      <td>0.0</td>\n",
       "      <td>1.0</td>\n",
       "      <td>1.0</td>\n",
       "      <td>0.0</td>\n",
       "      <td>0.0</td>\n",
       "      <td>...</td>\n",
       "      <td>Below Poverty</td>\n",
       "      <td>Not Married</td>\n",
       "      <td>Rent</td>\n",
       "      <td>Not in Labor Force</td>\n",
       "      <td>lrircsnp</td>\n",
       "      <td>MSA, Principle City</td>\n",
       "      <td>0.0</td>\n",
       "      <td>0.0</td>\n",
       "      <td>NaN</td>\n",
       "      <td>NaN</td>\n",
       "    </tr>\n",
       "    <tr>\n",
       "      <th>4</th>\n",
       "      <td>4</td>\n",
       "      <td>2.0</td>\n",
       "      <td>1.0</td>\n",
       "      <td>0.0</td>\n",
       "      <td>1.0</td>\n",
       "      <td>0.0</td>\n",
       "      <td>1.0</td>\n",
       "      <td>1.0</td>\n",
       "      <td>0.0</td>\n",
       "      <td>1.0</td>\n",
       "      <td>...</td>\n",
       "      <td>&lt;= $75,000, Above Poverty</td>\n",
       "      <td>Married</td>\n",
       "      <td>Own</td>\n",
       "      <td>Employed</td>\n",
       "      <td>qufhixun</td>\n",
       "      <td>MSA, Not Principle  City</td>\n",
       "      <td>1.0</td>\n",
       "      <td>0.0</td>\n",
       "      <td>wxleyezf</td>\n",
       "      <td>emcorrxb</td>\n",
       "    </tr>\n",
       "  </tbody>\n",
       "</table>\n",
       "<p>5 rows × 36 columns</p>\n",
       "</div>"
      ],
      "text/plain": [
       "   respondent_id  h1n1_concern  h1n1_knowledge  behavioral_antiviral_meds  \\\n",
       "0              0           1.0             0.0                        0.0   \n",
       "1              1           3.0             2.0                        0.0   \n",
       "2              2           1.0             1.0                        0.0   \n",
       "3              3           1.0             1.0                        0.0   \n",
       "4              4           2.0             1.0                        0.0   \n",
       "\n",
       "   behavioral_avoidance  behavioral_face_mask  behavioral_wash_hands  \\\n",
       "0                   0.0                   0.0                    0.0   \n",
       "1                   1.0                   0.0                    1.0   \n",
       "2                   1.0                   0.0                    0.0   \n",
       "3                   1.0                   0.0                    1.0   \n",
       "4                   1.0                   0.0                    1.0   \n",
       "\n",
       "   behavioral_large_gatherings  behavioral_outside_home  \\\n",
       "0                          0.0                      1.0   \n",
       "1                          0.0                      1.0   \n",
       "2                          0.0                      0.0   \n",
       "3                          1.0                      0.0   \n",
       "4                          1.0                      0.0   \n",
       "\n",
       "   behavioral_touch_face  ...             income_poverty  marital_status  \\\n",
       "0                    1.0  ...              Below Poverty     Not Married   \n",
       "1                    1.0  ...              Below Poverty     Not Married   \n",
       "2                    0.0  ...  <= $75,000, Above Poverty     Not Married   \n",
       "3                    0.0  ...              Below Poverty     Not Married   \n",
       "4                    1.0  ...  <= $75,000, Above Poverty         Married   \n",
       "\n",
       "   rent_or_own   employment_status  hhs_geo_region                census_msa  \\\n",
       "0          Own  Not in Labor Force        oxchjgsf                   Non-MSA   \n",
       "1         Rent            Employed        bhuqouqj  MSA, Not Principle  City   \n",
       "2          Own            Employed        qufhixun  MSA, Not Principle  City   \n",
       "3         Rent  Not in Labor Force        lrircsnp       MSA, Principle City   \n",
       "4          Own            Employed        qufhixun  MSA, Not Principle  City   \n",
       "\n",
       "   household_adults  household_children  employment_industry  \\\n",
       "0               0.0                 0.0                  NaN   \n",
       "1               0.0                 0.0             pxcmvdjn   \n",
       "2               2.0                 0.0             rucpziij   \n",
       "3               0.0                 0.0                  NaN   \n",
       "4               1.0                 0.0             wxleyezf   \n",
       "\n",
       "   employment_occupation  \n",
       "0                    NaN  \n",
       "1               xgwztkwe  \n",
       "2               xtkaffoo  \n",
       "3                    NaN  \n",
       "4               emcorrxb  \n",
       "\n",
       "[5 rows x 36 columns]"
      ]
     },
     "execution_count": 2,
     "metadata": {},
     "output_type": "execute_result"
    }
   ],
   "source": [
    "# import and examine data\n",
    "df = pd.read_csv('training_set_features.csv')\n",
    "df.head()"
   ]
  },
  {
   "cell_type": "code",
   "execution_count": 3,
   "metadata": {},
   "outputs": [
    {
     "data": {
      "text/plain": [
       "(26707, 36)"
      ]
     },
     "execution_count": 3,
     "metadata": {},
     "output_type": "execute_result"
    }
   ],
   "source": [
    "df.shape"
   ]
  },
  {
   "cell_type": "code",
   "execution_count": 4,
   "metadata": {},
   "outputs": [
    {
     "data": {
      "text/html": [
       "<div>\n",
       "<style scoped>\n",
       "    .dataframe tbody tr th:only-of-type {\n",
       "        vertical-align: middle;\n",
       "    }\n",
       "\n",
       "    .dataframe tbody tr th {\n",
       "        vertical-align: top;\n",
       "    }\n",
       "\n",
       "    .dataframe thead th {\n",
       "        text-align: right;\n",
       "    }\n",
       "</style>\n",
       "<table border=\"1\" class=\"dataframe\">\n",
       "  <thead>\n",
       "    <tr style=\"text-align: right;\">\n",
       "      <th></th>\n",
       "      <th>respondent_id</th>\n",
       "      <th>h1n1_vaccine</th>\n",
       "      <th>seasonal_vaccine</th>\n",
       "    </tr>\n",
       "  </thead>\n",
       "  <tbody>\n",
       "    <tr>\n",
       "      <th>0</th>\n",
       "      <td>0</td>\n",
       "      <td>0</td>\n",
       "      <td>0</td>\n",
       "    </tr>\n",
       "    <tr>\n",
       "      <th>1</th>\n",
       "      <td>1</td>\n",
       "      <td>0</td>\n",
       "      <td>1</td>\n",
       "    </tr>\n",
       "    <tr>\n",
       "      <th>2</th>\n",
       "      <td>2</td>\n",
       "      <td>0</td>\n",
       "      <td>0</td>\n",
       "    </tr>\n",
       "    <tr>\n",
       "      <th>3</th>\n",
       "      <td>3</td>\n",
       "      <td>0</td>\n",
       "      <td>1</td>\n",
       "    </tr>\n",
       "    <tr>\n",
       "      <th>4</th>\n",
       "      <td>4</td>\n",
       "      <td>0</td>\n",
       "      <td>0</td>\n",
       "    </tr>\n",
       "  </tbody>\n",
       "</table>\n",
       "</div>"
      ],
      "text/plain": [
       "   respondent_id  h1n1_vaccine  seasonal_vaccine\n",
       "0              0             0                 0\n",
       "1              1             0                 1\n",
       "2              2             0                 0\n",
       "3              3             0                 1\n",
       "4              4             0                 0"
      ]
     },
     "execution_count": 4,
     "metadata": {},
     "output_type": "execute_result"
    }
   ],
   "source": [
    "# import training labels\n",
    "labels = pd.read_csv('labels.csv')\n",
    "labels.head()"
   ]
  },
  {
   "cell_type": "code",
   "execution_count": 5,
   "metadata": {},
   "outputs": [
    {
     "data": {
      "text/plain": [
       "0    0.534392\n",
       "1    0.465608\n",
       "Name: seasonal_vaccine, dtype: float64"
      ]
     },
     "execution_count": 5,
     "metadata": {},
     "output_type": "execute_result"
    }
   ],
   "source": [
    "# extract target column from training labels\n",
    "target = labels['seasonal_vaccine']\n",
    "target.value_counts(normalize=True)"
   ]
  },
  {
   "cell_type": "code",
   "execution_count": 6,
   "metadata": {},
   "outputs": [
    {
     "data": {
      "text/html": [
       "<div>\n",
       "<style scoped>\n",
       "    .dataframe tbody tr th:only-of-type {\n",
       "        vertical-align: middle;\n",
       "    }\n",
       "\n",
       "    .dataframe tbody tr th {\n",
       "        vertical-align: top;\n",
       "    }\n",
       "\n",
       "    .dataframe thead th {\n",
       "        text-align: right;\n",
       "    }\n",
       "</style>\n",
       "<table border=\"1\" class=\"dataframe\">\n",
       "  <thead>\n",
       "    <tr style=\"text-align: right;\">\n",
       "      <th></th>\n",
       "      <th>respondent_id</th>\n",
       "      <th>h1n1_concern</th>\n",
       "      <th>h1n1_knowledge</th>\n",
       "      <th>behavioral_antiviral_meds</th>\n",
       "      <th>behavioral_avoidance</th>\n",
       "      <th>behavioral_face_mask</th>\n",
       "      <th>behavioral_wash_hands</th>\n",
       "      <th>behavioral_large_gatherings</th>\n",
       "      <th>behavioral_outside_home</th>\n",
       "      <th>behavioral_touch_face</th>\n",
       "      <th>...</th>\n",
       "      <th>marital_status</th>\n",
       "      <th>rent_or_own</th>\n",
       "      <th>employment_status</th>\n",
       "      <th>hhs_geo_region</th>\n",
       "      <th>census_msa</th>\n",
       "      <th>household_adults</th>\n",
       "      <th>household_children</th>\n",
       "      <th>employment_industry</th>\n",
       "      <th>employment_occupation</th>\n",
       "      <th>seasonal_vaccine</th>\n",
       "    </tr>\n",
       "  </thead>\n",
       "  <tbody>\n",
       "    <tr>\n",
       "      <th>0</th>\n",
       "      <td>0</td>\n",
       "      <td>1.0</td>\n",
       "      <td>0.0</td>\n",
       "      <td>0.0</td>\n",
       "      <td>0.0</td>\n",
       "      <td>0.0</td>\n",
       "      <td>0.0</td>\n",
       "      <td>0.0</td>\n",
       "      <td>1.0</td>\n",
       "      <td>1.0</td>\n",
       "      <td>...</td>\n",
       "      <td>Not Married</td>\n",
       "      <td>Own</td>\n",
       "      <td>Not in Labor Force</td>\n",
       "      <td>oxchjgsf</td>\n",
       "      <td>Non-MSA</td>\n",
       "      <td>0.0</td>\n",
       "      <td>0.0</td>\n",
       "      <td>NaN</td>\n",
       "      <td>NaN</td>\n",
       "      <td>0</td>\n",
       "    </tr>\n",
       "    <tr>\n",
       "      <th>1</th>\n",
       "      <td>1</td>\n",
       "      <td>3.0</td>\n",
       "      <td>2.0</td>\n",
       "      <td>0.0</td>\n",
       "      <td>1.0</td>\n",
       "      <td>0.0</td>\n",
       "      <td>1.0</td>\n",
       "      <td>0.0</td>\n",
       "      <td>1.0</td>\n",
       "      <td>1.0</td>\n",
       "      <td>...</td>\n",
       "      <td>Not Married</td>\n",
       "      <td>Rent</td>\n",
       "      <td>Employed</td>\n",
       "      <td>bhuqouqj</td>\n",
       "      <td>MSA, Not Principle  City</td>\n",
       "      <td>0.0</td>\n",
       "      <td>0.0</td>\n",
       "      <td>pxcmvdjn</td>\n",
       "      <td>xgwztkwe</td>\n",
       "      <td>1</td>\n",
       "    </tr>\n",
       "    <tr>\n",
       "      <th>2</th>\n",
       "      <td>2</td>\n",
       "      <td>1.0</td>\n",
       "      <td>1.0</td>\n",
       "      <td>0.0</td>\n",
       "      <td>1.0</td>\n",
       "      <td>0.0</td>\n",
       "      <td>0.0</td>\n",
       "      <td>0.0</td>\n",
       "      <td>0.0</td>\n",
       "      <td>0.0</td>\n",
       "      <td>...</td>\n",
       "      <td>Not Married</td>\n",
       "      <td>Own</td>\n",
       "      <td>Employed</td>\n",
       "      <td>qufhixun</td>\n",
       "      <td>MSA, Not Principle  City</td>\n",
       "      <td>2.0</td>\n",
       "      <td>0.0</td>\n",
       "      <td>rucpziij</td>\n",
       "      <td>xtkaffoo</td>\n",
       "      <td>0</td>\n",
       "    </tr>\n",
       "    <tr>\n",
       "      <th>3</th>\n",
       "      <td>3</td>\n",
       "      <td>1.0</td>\n",
       "      <td>1.0</td>\n",
       "      <td>0.0</td>\n",
       "      <td>1.0</td>\n",
       "      <td>0.0</td>\n",
       "      <td>1.0</td>\n",
       "      <td>1.0</td>\n",
       "      <td>0.0</td>\n",
       "      <td>0.0</td>\n",
       "      <td>...</td>\n",
       "      <td>Not Married</td>\n",
       "      <td>Rent</td>\n",
       "      <td>Not in Labor Force</td>\n",
       "      <td>lrircsnp</td>\n",
       "      <td>MSA, Principle City</td>\n",
       "      <td>0.0</td>\n",
       "      <td>0.0</td>\n",
       "      <td>NaN</td>\n",
       "      <td>NaN</td>\n",
       "      <td>1</td>\n",
       "    </tr>\n",
       "    <tr>\n",
       "      <th>4</th>\n",
       "      <td>4</td>\n",
       "      <td>2.0</td>\n",
       "      <td>1.0</td>\n",
       "      <td>0.0</td>\n",
       "      <td>1.0</td>\n",
       "      <td>0.0</td>\n",
       "      <td>1.0</td>\n",
       "      <td>1.0</td>\n",
       "      <td>0.0</td>\n",
       "      <td>1.0</td>\n",
       "      <td>...</td>\n",
       "      <td>Married</td>\n",
       "      <td>Own</td>\n",
       "      <td>Employed</td>\n",
       "      <td>qufhixun</td>\n",
       "      <td>MSA, Not Principle  City</td>\n",
       "      <td>1.0</td>\n",
       "      <td>0.0</td>\n",
       "      <td>wxleyezf</td>\n",
       "      <td>emcorrxb</td>\n",
       "      <td>0</td>\n",
       "    </tr>\n",
       "  </tbody>\n",
       "</table>\n",
       "<p>5 rows × 37 columns</p>\n",
       "</div>"
      ],
      "text/plain": [
       "   respondent_id  h1n1_concern  h1n1_knowledge  behavioral_antiviral_meds  \\\n",
       "0              0           1.0             0.0                        0.0   \n",
       "1              1           3.0             2.0                        0.0   \n",
       "2              2           1.0             1.0                        0.0   \n",
       "3              3           1.0             1.0                        0.0   \n",
       "4              4           2.0             1.0                        0.0   \n",
       "\n",
       "   behavioral_avoidance  behavioral_face_mask  behavioral_wash_hands  \\\n",
       "0                   0.0                   0.0                    0.0   \n",
       "1                   1.0                   0.0                    1.0   \n",
       "2                   1.0                   0.0                    0.0   \n",
       "3                   1.0                   0.0                    1.0   \n",
       "4                   1.0                   0.0                    1.0   \n",
       "\n",
       "   behavioral_large_gatherings  behavioral_outside_home  \\\n",
       "0                          0.0                      1.0   \n",
       "1                          0.0                      1.0   \n",
       "2                          0.0                      0.0   \n",
       "3                          1.0                      0.0   \n",
       "4                          1.0                      0.0   \n",
       "\n",
       "   behavioral_touch_face  ...  marital_status  rent_or_own  \\\n",
       "0                    1.0  ...     Not Married          Own   \n",
       "1                    1.0  ...     Not Married         Rent   \n",
       "2                    0.0  ...     Not Married          Own   \n",
       "3                    0.0  ...     Not Married         Rent   \n",
       "4                    1.0  ...         Married          Own   \n",
       "\n",
       "    employment_status  hhs_geo_region                census_msa  \\\n",
       "0  Not in Labor Force        oxchjgsf                   Non-MSA   \n",
       "1            Employed        bhuqouqj  MSA, Not Principle  City   \n",
       "2            Employed        qufhixun  MSA, Not Principle  City   \n",
       "3  Not in Labor Force        lrircsnp       MSA, Principle City   \n",
       "4            Employed        qufhixun  MSA, Not Principle  City   \n",
       "\n",
       "   household_adults  household_children  employment_industry  \\\n",
       "0               0.0                 0.0                  NaN   \n",
       "1               0.0                 0.0             pxcmvdjn   \n",
       "2               2.0                 0.0             rucpziij   \n",
       "3               0.0                 0.0                  NaN   \n",
       "4               1.0                 0.0             wxleyezf   \n",
       "\n",
       "   employment_occupation  seasonal_vaccine  \n",
       "0                    NaN                 0  \n",
       "1               xgwztkwe                 1  \n",
       "2               xtkaffoo                 0  \n",
       "3                    NaN                 1  \n",
       "4               emcorrxb                 0  \n",
       "\n",
       "[5 rows x 37 columns]"
      ]
     },
     "execution_count": 6,
     "metadata": {},
     "output_type": "execute_result"
    }
   ],
   "source": [
    "# merge dataframes for the purpose of EDA\n",
    "df['seasonal_vaccine'] = labels['seasonal_vaccine']\n",
    "df.head()"
   ]
  },
  {
   "cell_type": "markdown",
   "metadata": {},
   "source": [
    "From looking at the distribution of the target variable, we see that the split is nearly even (considering the amount of data we have) - therefore, at this time we do not need to worry about class imbalance problems that would appear if one class of data was far more frequent than the other."
   ]
  },
  {
   "cell_type": "code",
   "execution_count": 7,
   "metadata": {},
   "outputs": [
    {
     "name": "stdout",
     "output_type": "stream",
     "text": [
      "<class 'pandas.core.frame.DataFrame'>\n",
      "RangeIndex: 26707 entries, 0 to 26706\n",
      "Data columns (total 37 columns):\n",
      " #   Column                       Non-Null Count  Dtype  \n",
      "---  ------                       --------------  -----  \n",
      " 0   respondent_id                26707 non-null  int64  \n",
      " 1   h1n1_concern                 26615 non-null  float64\n",
      " 2   h1n1_knowledge               26591 non-null  float64\n",
      " 3   behavioral_antiviral_meds    26636 non-null  float64\n",
      " 4   behavioral_avoidance         26499 non-null  float64\n",
      " 5   behavioral_face_mask         26688 non-null  float64\n",
      " 6   behavioral_wash_hands        26665 non-null  float64\n",
      " 7   behavioral_large_gatherings  26620 non-null  float64\n",
      " 8   behavioral_outside_home      26625 non-null  float64\n",
      " 9   behavioral_touch_face        26579 non-null  float64\n",
      " 10  doctor_recc_h1n1             24547 non-null  float64\n",
      " 11  doctor_recc_seasonal         24547 non-null  float64\n",
      " 12  chronic_med_condition        25736 non-null  float64\n",
      " 13  child_under_6_months         25887 non-null  float64\n",
      " 14  health_worker                25903 non-null  float64\n",
      " 15  health_insurance             14433 non-null  float64\n",
      " 16  opinion_h1n1_vacc_effective  26316 non-null  float64\n",
      " 17  opinion_h1n1_risk            26319 non-null  float64\n",
      " 18  opinion_h1n1_sick_from_vacc  26312 non-null  float64\n",
      " 19  opinion_seas_vacc_effective  26245 non-null  float64\n",
      " 20  opinion_seas_risk            26193 non-null  float64\n",
      " 21  opinion_seas_sick_from_vacc  26170 non-null  float64\n",
      " 22  age_group                    26707 non-null  object \n",
      " 23  education                    25300 non-null  object \n",
      " 24  race                         26707 non-null  object \n",
      " 25  sex                          26707 non-null  object \n",
      " 26  income_poverty               22284 non-null  object \n",
      " 27  marital_status               25299 non-null  object \n",
      " 28  rent_or_own                  24665 non-null  object \n",
      " 29  employment_status            25244 non-null  object \n",
      " 30  hhs_geo_region               26707 non-null  object \n",
      " 31  census_msa                   26707 non-null  object \n",
      " 32  household_adults             26458 non-null  float64\n",
      " 33  household_children           26458 non-null  float64\n",
      " 34  employment_industry          13377 non-null  object \n",
      " 35  employment_occupation        13237 non-null  object \n",
      " 36  seasonal_vaccine             26707 non-null  int64  \n",
      "dtypes: float64(23), int64(2), object(12)\n",
      "memory usage: 7.5+ MB\n"
     ]
    }
   ],
   "source": [
    "# examine data types\n",
    "df.info()"
   ]
  },
  {
   "cell_type": "code",
   "execution_count": 8,
   "metadata": {},
   "outputs": [
    {
     "data": {
      "text/plain": [
       "1.0    14474\n",
       "0.0     8056\n",
       "2.0     2803\n",
       "3.0     1125\n",
       "Name: household_adults, dtype: int64"
      ]
     },
     "execution_count": 8,
     "metadata": {},
     "output_type": "execute_result"
    }
   ],
   "source": [
    "df['household_adults'].value_counts()"
   ]
  },
  {
   "cell_type": "code",
   "execution_count": 9,
   "metadata": {},
   "outputs": [
    {
     "data": {
      "text/plain": [
       "0.0    18672\n",
       "1.0     3175\n",
       "2.0     2864\n",
       "3.0     1747\n",
       "Name: household_children, dtype: int64"
      ]
     },
     "execution_count": 9,
     "metadata": {},
     "output_type": "execute_result"
    }
   ],
   "source": [
    "df['household_children'].value_counts()"
   ]
  },
  {
   "cell_type": "markdown",
   "metadata": {},
   "source": [
    "From looking at the features above, and from examining the source descriptions of the features , we can remove some of the features from the start, specifically those that are related to the H1N1 virus and not the seasonal flu. Additionally, we can remove the respondent_id feature as this will not be used for predictive reasons.\n",
    "\n",
    "Feature documentation at this link: https://www.drivendata.org/competitions/66/flu-shot-learning/page/211/#labels"
   ]
  },
  {
   "cell_type": "code",
   "execution_count": 10,
   "metadata": {},
   "outputs": [],
   "source": [
    "drop_columns = ['respondent_id','h1n1_concern','h1n1_knowledge','doctor_recc_h1n1','opinion_h1n1_vacc_effective',\n",
    "                'opinion_h1n1_risk','opinion_h1n1_sick_from_vacc','hhs_geo_region','employment_industry',\n",
    "                'employment_occupation']\n",
    "df = df.drop(columns=drop_columns,axis=1)"
   ]
  },
  {
   "cell_type": "code",
   "execution_count": 11,
   "metadata": {},
   "outputs": [
    {
     "data": {
      "text/plain": [
       "behavioral_antiviral_meds         71\n",
       "behavioral_avoidance             208\n",
       "behavioral_face_mask              19\n",
       "behavioral_wash_hands             42\n",
       "behavioral_large_gatherings       87\n",
       "behavioral_outside_home           82\n",
       "behavioral_touch_face            128\n",
       "doctor_recc_seasonal            2160\n",
       "chronic_med_condition            971\n",
       "child_under_6_months             820\n",
       "health_worker                    804\n",
       "health_insurance               12274\n",
       "opinion_seas_vacc_effective      462\n",
       "opinion_seas_risk                514\n",
       "opinion_seas_sick_from_vacc      537\n",
       "age_group                          0\n",
       "education                       1407\n",
       "race                               0\n",
       "sex                                0\n",
       "income_poverty                  4423\n",
       "marital_status                  1408\n",
       "rent_or_own                     2042\n",
       "employment_status               1463\n",
       "census_msa                         0\n",
       "household_adults                 249\n",
       "household_children               249\n",
       "seasonal_vaccine                   0\n",
       "dtype: int64"
      ]
     },
     "execution_count": 11,
     "metadata": {},
     "output_type": "execute_result"
    }
   ],
   "source": [
    "df.isna().sum()"
   ]
  },
  {
   "cell_type": "markdown",
   "metadata": {},
   "source": [
    "Now that we have identified all of the missing values in the features data frame, we need to consider how to deal with missing data. The only two continuous variables in the features are number of adults and children outside of the household that an individual is exposed to. Because the missing values in those columns are a very small percentage of the data set, we can just drop those values. For the rest of the features, which are categorical, we are better off treating the missing values as their own category, so we can replace those missing values with labels."
   ]
  },
  {
   "cell_type": "code",
   "execution_count": 12,
   "metadata": {},
   "outputs": [],
   "source": [
    "missing_household_adults = df[df['household_adults'].isnull()].index.tolist()\n",
    "missing_household_children = df[df['household_children'].isnull()].index.tolist()"
   ]
  },
  {
   "cell_type": "code",
   "execution_count": 13,
   "metadata": {},
   "outputs": [],
   "source": [
    "combined = list(set(missing_household_adults+missing_household_children))"
   ]
  },
  {
   "cell_type": "code",
   "execution_count": 14,
   "metadata": {},
   "outputs": [],
   "source": [
    "df.drop(combined,axis=0,inplace=True)"
   ]
  },
  {
   "cell_type": "code",
   "execution_count": 15,
   "metadata": {},
   "outputs": [
    {
     "data": {
      "text/plain": [
       "behavioral_antiviral_meds         69\n",
       "behavioral_avoidance             204\n",
       "behavioral_face_mask              19\n",
       "behavioral_wash_hands             41\n",
       "behavioral_large_gatherings       85\n",
       "behavioral_outside_home           82\n",
       "behavioral_touch_face            127\n",
       "doctor_recc_seasonal            2097\n",
       "chronic_med_condition            777\n",
       "child_under_6_months             595\n",
       "health_worker                    588\n",
       "health_insurance               12029\n",
       "opinion_seas_vacc_effective      350\n",
       "opinion_seas_risk                386\n",
       "opinion_seas_sick_from_vacc      394\n",
       "age_group                          0\n",
       "education                       1170\n",
       "race                               0\n",
       "sex                                0\n",
       "income_poverty                  4181\n",
       "marital_status                  1172\n",
       "rent_or_own                     1804\n",
       "employment_status               1225\n",
       "census_msa                         0\n",
       "household_adults                   0\n",
       "household_children                 0\n",
       "seasonal_vaccine                   0\n",
       "dtype: int64"
      ]
     },
     "execution_count": 15,
     "metadata": {},
     "output_type": "execute_result"
    }
   ],
   "source": [
    "df.isna().sum()"
   ]
  },
  {
   "cell_type": "code",
   "execution_count": 16,
   "metadata": {},
   "outputs": [],
   "source": [
    "df.fillna('missing',inplace=True)"
   ]
  },
  {
   "cell_type": "code",
   "execution_count": 17,
   "metadata": {},
   "outputs": [
    {
     "data": {
      "text/plain": [
       "behavioral_antiviral_meds      0\n",
       "behavioral_avoidance           0\n",
       "behavioral_face_mask           0\n",
       "behavioral_wash_hands          0\n",
       "behavioral_large_gatherings    0\n",
       "behavioral_outside_home        0\n",
       "behavioral_touch_face          0\n",
       "doctor_recc_seasonal           0\n",
       "chronic_med_condition          0\n",
       "child_under_6_months           0\n",
       "health_worker                  0\n",
       "health_insurance               0\n",
       "opinion_seas_vacc_effective    0\n",
       "opinion_seas_risk              0\n",
       "opinion_seas_sick_from_vacc    0\n",
       "age_group                      0\n",
       "education                      0\n",
       "race                           0\n",
       "sex                            0\n",
       "income_poverty                 0\n",
       "marital_status                 0\n",
       "rent_or_own                    0\n",
       "employment_status              0\n",
       "census_msa                     0\n",
       "household_adults               0\n",
       "household_children             0\n",
       "seasonal_vaccine               0\n",
       "dtype: int64"
      ]
     },
     "execution_count": 17,
     "metadata": {},
     "output_type": "execute_result"
    }
   ],
   "source": [
    "df.isna().sum()"
   ]
  },
  {
   "cell_type": "code",
   "execution_count": 18,
   "metadata": {},
   "outputs": [
    {
     "name": "stdout",
     "output_type": "stream",
     "text": [
      "<class 'pandas.core.frame.DataFrame'>\n",
      "Int64Index: 26458 entries, 0 to 26706\n",
      "Data columns (total 27 columns):\n",
      " #   Column                       Non-Null Count  Dtype  \n",
      "---  ------                       --------------  -----  \n",
      " 0   behavioral_antiviral_meds    26458 non-null  object \n",
      " 1   behavioral_avoidance         26458 non-null  object \n",
      " 2   behavioral_face_mask         26458 non-null  object \n",
      " 3   behavioral_wash_hands        26458 non-null  object \n",
      " 4   behavioral_large_gatherings  26458 non-null  object \n",
      " 5   behavioral_outside_home      26458 non-null  object \n",
      " 6   behavioral_touch_face        26458 non-null  object \n",
      " 7   doctor_recc_seasonal         26458 non-null  object \n",
      " 8   chronic_med_condition        26458 non-null  object \n",
      " 9   child_under_6_months         26458 non-null  object \n",
      " 10  health_worker                26458 non-null  object \n",
      " 11  health_insurance             26458 non-null  object \n",
      " 12  opinion_seas_vacc_effective  26458 non-null  object \n",
      " 13  opinion_seas_risk            26458 non-null  object \n",
      " 14  opinion_seas_sick_from_vacc  26458 non-null  object \n",
      " 15  age_group                    26458 non-null  object \n",
      " 16  education                    26458 non-null  object \n",
      " 17  race                         26458 non-null  object \n",
      " 18  sex                          26458 non-null  object \n",
      " 19  income_poverty               26458 non-null  object \n",
      " 20  marital_status               26458 non-null  object \n",
      " 21  rent_or_own                  26458 non-null  object \n",
      " 22  employment_status            26458 non-null  object \n",
      " 23  census_msa                   26458 non-null  object \n",
      " 24  household_adults             26458 non-null  float64\n",
      " 25  household_children           26458 non-null  float64\n",
      " 26  seasonal_vaccine             26458 non-null  int64  \n",
      "dtypes: float64(2), int64(1), object(24)\n",
      "memory usage: 5.7+ MB\n"
     ]
    }
   ],
   "source": [
    "df.info()"
   ]
  },
  {
   "cell_type": "code",
   "execution_count": 19,
   "metadata": {},
   "outputs": [],
   "source": [
    "# split into features and target variable\n",
    "y = df['seasonal_vaccine']\n",
    "X = df.drop('seasonal_vaccine',axis=1)"
   ]
  },
  {
   "cell_type": "markdown",
   "metadata": {},
   "source": [
    "## Model 1: Logistic Regression\n",
    "\n",
    "The first model fitted will be a logistic regression. Logistic regression outputs the probability of a classification, which we can then round to treat as an actual classification. For this business problem, which is to maximize the number of people who receive the vaccine, we will use accuracy as the score of predictive value for the final model chosen."
   ]
  },
  {
   "cell_type": "code",
   "execution_count": null,
   "metadata": {},
   "outputs": [],
   "source": [
    "X_numerical = X.iloc[:,24:26]"
   ]
  },
  {
   "cell_type": "code",
   "execution_count": null,
   "metadata": {},
   "outputs": [],
   "source": [
    "X_numerical.info()"
   ]
  },
  {
   "cell_type": "code",
   "execution_count": null,
   "metadata": {},
   "outputs": [],
   "source": [
    "X_categorical = X.iloc[:,0:24]\n",
    "X_categorical.astype(str)"
   ]
  },
  {
   "cell_type": "code",
   "execution_count": null,
   "metadata": {},
   "outputs": [],
   "source": [
    "X_categorical.info()"
   ]
  },
  {
   "cell_type": "code",
   "execution_count": 20,
   "metadata": {},
   "outputs": [],
   "source": [
    "X_new = pd.get_dummies(X)"
   ]
  },
  {
   "cell_type": "code",
   "execution_count": 21,
   "metadata": {},
   "outputs": [
    {
     "data": {
      "text/html": [
       "<div>\n",
       "<style scoped>\n",
       "    .dataframe tbody tr th:only-of-type {\n",
       "        vertical-align: middle;\n",
       "    }\n",
       "\n",
       "    .dataframe tbody tr th {\n",
       "        vertical-align: top;\n",
       "    }\n",
       "\n",
       "    .dataframe thead th {\n",
       "        text-align: right;\n",
       "    }\n",
       "</style>\n",
       "<table border=\"1\" class=\"dataframe\">\n",
       "  <thead>\n",
       "    <tr style=\"text-align: right;\">\n",
       "      <th></th>\n",
       "      <th>household_adults</th>\n",
       "      <th>household_children</th>\n",
       "      <th>behavioral_antiviral_meds_0.0</th>\n",
       "      <th>behavioral_antiviral_meds_1.0</th>\n",
       "      <th>behavioral_antiviral_meds_missing</th>\n",
       "      <th>behavioral_avoidance_0.0</th>\n",
       "      <th>behavioral_avoidance_1.0</th>\n",
       "      <th>behavioral_avoidance_missing</th>\n",
       "      <th>behavioral_face_mask_0.0</th>\n",
       "      <th>behavioral_face_mask_1.0</th>\n",
       "      <th>...</th>\n",
       "      <th>rent_or_own_Own</th>\n",
       "      <th>rent_or_own_Rent</th>\n",
       "      <th>rent_or_own_missing</th>\n",
       "      <th>employment_status_Employed</th>\n",
       "      <th>employment_status_Not in Labor Force</th>\n",
       "      <th>employment_status_Unemployed</th>\n",
       "      <th>employment_status_missing</th>\n",
       "      <th>census_msa_MSA, Not Principle  City</th>\n",
       "      <th>census_msa_MSA, Principle City</th>\n",
       "      <th>census_msa_Non-MSA</th>\n",
       "    </tr>\n",
       "  </thead>\n",
       "  <tbody>\n",
       "    <tr>\n",
       "      <th>0</th>\n",
       "      <td>0.0</td>\n",
       "      <td>0.0</td>\n",
       "      <td>1</td>\n",
       "      <td>0</td>\n",
       "      <td>0</td>\n",
       "      <td>1</td>\n",
       "      <td>0</td>\n",
       "      <td>0</td>\n",
       "      <td>1</td>\n",
       "      <td>0</td>\n",
       "      <td>...</td>\n",
       "      <td>1</td>\n",
       "      <td>0</td>\n",
       "      <td>0</td>\n",
       "      <td>0</td>\n",
       "      <td>1</td>\n",
       "      <td>0</td>\n",
       "      <td>0</td>\n",
       "      <td>0</td>\n",
       "      <td>0</td>\n",
       "      <td>1</td>\n",
       "    </tr>\n",
       "    <tr>\n",
       "      <th>1</th>\n",
       "      <td>0.0</td>\n",
       "      <td>0.0</td>\n",
       "      <td>1</td>\n",
       "      <td>0</td>\n",
       "      <td>0</td>\n",
       "      <td>0</td>\n",
       "      <td>1</td>\n",
       "      <td>0</td>\n",
       "      <td>1</td>\n",
       "      <td>0</td>\n",
       "      <td>...</td>\n",
       "      <td>0</td>\n",
       "      <td>1</td>\n",
       "      <td>0</td>\n",
       "      <td>1</td>\n",
       "      <td>0</td>\n",
       "      <td>0</td>\n",
       "      <td>0</td>\n",
       "      <td>1</td>\n",
       "      <td>0</td>\n",
       "      <td>0</td>\n",
       "    </tr>\n",
       "    <tr>\n",
       "      <th>2</th>\n",
       "      <td>2.0</td>\n",
       "      <td>0.0</td>\n",
       "      <td>1</td>\n",
       "      <td>0</td>\n",
       "      <td>0</td>\n",
       "      <td>0</td>\n",
       "      <td>1</td>\n",
       "      <td>0</td>\n",
       "      <td>1</td>\n",
       "      <td>0</td>\n",
       "      <td>...</td>\n",
       "      <td>1</td>\n",
       "      <td>0</td>\n",
       "      <td>0</td>\n",
       "      <td>1</td>\n",
       "      <td>0</td>\n",
       "      <td>0</td>\n",
       "      <td>0</td>\n",
       "      <td>1</td>\n",
       "      <td>0</td>\n",
       "      <td>0</td>\n",
       "    </tr>\n",
       "    <tr>\n",
       "      <th>3</th>\n",
       "      <td>0.0</td>\n",
       "      <td>0.0</td>\n",
       "      <td>1</td>\n",
       "      <td>0</td>\n",
       "      <td>0</td>\n",
       "      <td>0</td>\n",
       "      <td>1</td>\n",
       "      <td>0</td>\n",
       "      <td>1</td>\n",
       "      <td>0</td>\n",
       "      <td>...</td>\n",
       "      <td>0</td>\n",
       "      <td>1</td>\n",
       "      <td>0</td>\n",
       "      <td>0</td>\n",
       "      <td>1</td>\n",
       "      <td>0</td>\n",
       "      <td>0</td>\n",
       "      <td>0</td>\n",
       "      <td>1</td>\n",
       "      <td>0</td>\n",
       "    </tr>\n",
       "    <tr>\n",
       "      <th>4</th>\n",
       "      <td>1.0</td>\n",
       "      <td>0.0</td>\n",
       "      <td>1</td>\n",
       "      <td>0</td>\n",
       "      <td>0</td>\n",
       "      <td>0</td>\n",
       "      <td>1</td>\n",
       "      <td>0</td>\n",
       "      <td>1</td>\n",
       "      <td>0</td>\n",
       "      <td>...</td>\n",
       "      <td>1</td>\n",
       "      <td>0</td>\n",
       "      <td>0</td>\n",
       "      <td>1</td>\n",
       "      <td>0</td>\n",
       "      <td>0</td>\n",
       "      <td>0</td>\n",
       "      <td>1</td>\n",
       "      <td>0</td>\n",
       "      <td>0</td>\n",
       "    </tr>\n",
       "  </tbody>\n",
       "</table>\n",
       "<p>5 rows × 89 columns</p>\n",
       "</div>"
      ],
      "text/plain": [
       "   household_adults  household_children  behavioral_antiviral_meds_0.0  \\\n",
       "0               0.0                 0.0                              1   \n",
       "1               0.0                 0.0                              1   \n",
       "2               2.0                 0.0                              1   \n",
       "3               0.0                 0.0                              1   \n",
       "4               1.0                 0.0                              1   \n",
       "\n",
       "   behavioral_antiviral_meds_1.0  behavioral_antiviral_meds_missing  \\\n",
       "0                              0                                  0   \n",
       "1                              0                                  0   \n",
       "2                              0                                  0   \n",
       "3                              0                                  0   \n",
       "4                              0                                  0   \n",
       "\n",
       "   behavioral_avoidance_0.0  behavioral_avoidance_1.0  \\\n",
       "0                         1                         0   \n",
       "1                         0                         1   \n",
       "2                         0                         1   \n",
       "3                         0                         1   \n",
       "4                         0                         1   \n",
       "\n",
       "   behavioral_avoidance_missing  behavioral_face_mask_0.0  \\\n",
       "0                             0                         1   \n",
       "1                             0                         1   \n",
       "2                             0                         1   \n",
       "3                             0                         1   \n",
       "4                             0                         1   \n",
       "\n",
       "   behavioral_face_mask_1.0  ...  rent_or_own_Own  rent_or_own_Rent  \\\n",
       "0                         0  ...                1                 0   \n",
       "1                         0  ...                0                 1   \n",
       "2                         0  ...                1                 0   \n",
       "3                         0  ...                0                 1   \n",
       "4                         0  ...                1                 0   \n",
       "\n",
       "   rent_or_own_missing  employment_status_Employed  \\\n",
       "0                    0                           0   \n",
       "1                    0                           1   \n",
       "2                    0                           1   \n",
       "3                    0                           0   \n",
       "4                    0                           1   \n",
       "\n",
       "   employment_status_Not in Labor Force  employment_status_Unemployed  \\\n",
       "0                                     1                             0   \n",
       "1                                     0                             0   \n",
       "2                                     0                             0   \n",
       "3                                     1                             0   \n",
       "4                                     0                             0   \n",
       "\n",
       "   employment_status_missing  census_msa_MSA, Not Principle  City  \\\n",
       "0                          0                                    0   \n",
       "1                          0                                    1   \n",
       "2                          0                                    1   \n",
       "3                          0                                    0   \n",
       "4                          0                                    1   \n",
       "\n",
       "   census_msa_MSA, Principle City  census_msa_Non-MSA  \n",
       "0                               0                   1  \n",
       "1                               0                   0  \n",
       "2                               0                   0  \n",
       "3                               1                   0  \n",
       "4                               0                   0  \n",
       "\n",
       "[5 rows x 89 columns]"
      ]
     },
     "execution_count": 21,
     "metadata": {},
     "output_type": "execute_result"
    }
   ],
   "source": [
    "X_new.head()"
   ]
  },
  {
   "cell_type": "code",
   "execution_count": null,
   "metadata": {},
   "outputs": [],
   "source": [
    "X = pd.merge(X_new,X_numerical)"
   ]
  },
  {
   "cell_type": "code",
   "execution_count": 22,
   "metadata": {},
   "outputs": [
    {
     "name": "stdout",
     "output_type": "stream",
     "text": [
      "<class 'pandas.core.frame.DataFrame'>\n",
      "Int64Index: 26458 entries, 0 to 26706\n",
      "Data columns (total 89 columns):\n",
      " #   Column                                    Non-Null Count  Dtype  \n",
      "---  ------                                    --------------  -----  \n",
      " 0   household_adults                          26458 non-null  float64\n",
      " 1   household_children                        26458 non-null  float64\n",
      " 2   behavioral_antiviral_meds_0.0             26458 non-null  uint8  \n",
      " 3   behavioral_antiviral_meds_1.0             26458 non-null  uint8  \n",
      " 4   behavioral_antiviral_meds_missing         26458 non-null  uint8  \n",
      " 5   behavioral_avoidance_0.0                  26458 non-null  uint8  \n",
      " 6   behavioral_avoidance_1.0                  26458 non-null  uint8  \n",
      " 7   behavioral_avoidance_missing              26458 non-null  uint8  \n",
      " 8   behavioral_face_mask_0.0                  26458 non-null  uint8  \n",
      " 9   behavioral_face_mask_1.0                  26458 non-null  uint8  \n",
      " 10  behavioral_face_mask_missing              26458 non-null  uint8  \n",
      " 11  behavioral_wash_hands_0.0                 26458 non-null  uint8  \n",
      " 12  behavioral_wash_hands_1.0                 26458 non-null  uint8  \n",
      " 13  behavioral_wash_hands_missing             26458 non-null  uint8  \n",
      " 14  behavioral_large_gatherings_0.0           26458 non-null  uint8  \n",
      " 15  behavioral_large_gatherings_1.0           26458 non-null  uint8  \n",
      " 16  behavioral_large_gatherings_missing       26458 non-null  uint8  \n",
      " 17  behavioral_outside_home_0.0               26458 non-null  uint8  \n",
      " 18  behavioral_outside_home_1.0               26458 non-null  uint8  \n",
      " 19  behavioral_outside_home_missing           26458 non-null  uint8  \n",
      " 20  behavioral_touch_face_0.0                 26458 non-null  uint8  \n",
      " 21  behavioral_touch_face_1.0                 26458 non-null  uint8  \n",
      " 22  behavioral_touch_face_missing             26458 non-null  uint8  \n",
      " 23  doctor_recc_seasonal_0.0                  26458 non-null  uint8  \n",
      " 24  doctor_recc_seasonal_1.0                  26458 non-null  uint8  \n",
      " 25  doctor_recc_seasonal_missing              26458 non-null  uint8  \n",
      " 26  chronic_med_condition_0.0                 26458 non-null  uint8  \n",
      " 27  chronic_med_condition_1.0                 26458 non-null  uint8  \n",
      " 28  chronic_med_condition_missing             26458 non-null  uint8  \n",
      " 29  child_under_6_months_0.0                  26458 non-null  uint8  \n",
      " 30  child_under_6_months_1.0                  26458 non-null  uint8  \n",
      " 31  child_under_6_months_missing              26458 non-null  uint8  \n",
      " 32  health_worker_0.0                         26458 non-null  uint8  \n",
      " 33  health_worker_1.0                         26458 non-null  uint8  \n",
      " 34  health_worker_missing                     26458 non-null  uint8  \n",
      " 35  health_insurance_0.0                      26458 non-null  uint8  \n",
      " 36  health_insurance_1.0                      26458 non-null  uint8  \n",
      " 37  health_insurance_missing                  26458 non-null  uint8  \n",
      " 38  opinion_seas_vacc_effective_1.0           26458 non-null  uint8  \n",
      " 39  opinion_seas_vacc_effective_2.0           26458 non-null  uint8  \n",
      " 40  opinion_seas_vacc_effective_3.0           26458 non-null  uint8  \n",
      " 41  opinion_seas_vacc_effective_4.0           26458 non-null  uint8  \n",
      " 42  opinion_seas_vacc_effective_5.0           26458 non-null  uint8  \n",
      " 43  opinion_seas_vacc_effective_missing       26458 non-null  uint8  \n",
      " 44  opinion_seas_risk_1.0                     26458 non-null  uint8  \n",
      " 45  opinion_seas_risk_2.0                     26458 non-null  uint8  \n",
      " 46  opinion_seas_risk_3.0                     26458 non-null  uint8  \n",
      " 47  opinion_seas_risk_4.0                     26458 non-null  uint8  \n",
      " 48  opinion_seas_risk_5.0                     26458 non-null  uint8  \n",
      " 49  opinion_seas_risk_missing                 26458 non-null  uint8  \n",
      " 50  opinion_seas_sick_from_vacc_1.0           26458 non-null  uint8  \n",
      " 51  opinion_seas_sick_from_vacc_2.0           26458 non-null  uint8  \n",
      " 52  opinion_seas_sick_from_vacc_3.0           26458 non-null  uint8  \n",
      " 53  opinion_seas_sick_from_vacc_4.0           26458 non-null  uint8  \n",
      " 54  opinion_seas_sick_from_vacc_5.0           26458 non-null  uint8  \n",
      " 55  opinion_seas_sick_from_vacc_missing       26458 non-null  uint8  \n",
      " 56  age_group_18 - 34 Years                   26458 non-null  uint8  \n",
      " 57  age_group_35 - 44 Years                   26458 non-null  uint8  \n",
      " 58  age_group_45 - 54 Years                   26458 non-null  uint8  \n",
      " 59  age_group_55 - 64 Years                   26458 non-null  uint8  \n",
      " 60  age_group_65+ Years                       26458 non-null  uint8  \n",
      " 61  education_12 Years                        26458 non-null  uint8  \n",
      " 62  education_< 12 Years                      26458 non-null  uint8  \n",
      " 63  education_College Graduate                26458 non-null  uint8  \n",
      " 64  education_Some College                    26458 non-null  uint8  \n",
      " 65  education_missing                         26458 non-null  uint8  \n",
      " 66  race_Black                                26458 non-null  uint8  \n",
      " 67  race_Hispanic                             26458 non-null  uint8  \n",
      " 68  race_Other or Multiple                    26458 non-null  uint8  \n",
      " 69  race_White                                26458 non-null  uint8  \n",
      " 70  sex_Female                                26458 non-null  uint8  \n",
      " 71  sex_Male                                  26458 non-null  uint8  \n",
      " 72  income_poverty_<= $75,000, Above Poverty  26458 non-null  uint8  \n",
      " 73  income_poverty_> $75,000                  26458 non-null  uint8  \n",
      " 74  income_poverty_Below Poverty              26458 non-null  uint8  \n",
      " 75  income_poverty_missing                    26458 non-null  uint8  \n",
      " 76  marital_status_Married                    26458 non-null  uint8  \n",
      " 77  marital_status_Not Married                26458 non-null  uint8  \n",
      " 78  marital_status_missing                    26458 non-null  uint8  \n",
      " 79  rent_or_own_Own                           26458 non-null  uint8  \n",
      " 80  rent_or_own_Rent                          26458 non-null  uint8  \n",
      " 81  rent_or_own_missing                       26458 non-null  uint8  \n",
      " 82  employment_status_Employed                26458 non-null  uint8  \n",
      " 83  employment_status_Not in Labor Force      26458 non-null  uint8  \n",
      " 84  employment_status_Unemployed              26458 non-null  uint8  \n",
      " 85  employment_status_missing                 26458 non-null  uint8  \n",
      " 86  census_msa_MSA, Not Principle  City       26458 non-null  uint8  \n",
      " 87  census_msa_MSA, Principle City            26458 non-null  uint8  \n",
      " 88  census_msa_Non-MSA                        26458 non-null  uint8  \n",
      "dtypes: float64(2), uint8(87)\n",
      "memory usage: 2.8 MB\n"
     ]
    }
   ],
   "source": [
    "X_new.info()"
   ]
  },
  {
   "cell_type": "code",
   "execution_count": 51,
   "metadata": {},
   "outputs": [],
   "source": [
    "# initialize logistic regression\n",
    "log_reg = LogisticRegression(solver='liblinear',C=1e16,fit_intercept=False,random_state=42)\n",
    "\n",
    "log_reg.fit(X_new,y)\n",
    "\n",
    "preds = log_reg.predict(X_new)"
   ]
  },
  {
   "cell_type": "code",
   "execution_count": 52,
   "metadata": {},
   "outputs": [
    {
     "data": {
      "text/plain": [
       "0.7784414284414284"
      ]
     },
     "execution_count": 52,
     "metadata": {},
     "output_type": "execute_result"
    }
   ],
   "source": [
    "np.mean(cross_val_score(log_reg,X_new,y,cv=5))"
   ]
  },
  {
   "cell_type": "markdown",
   "metadata": {},
   "source": [
    "After fitting a basic logistic regression model and evaluating with 5-fold cross-validation, we get an average score of 77.8% accuracy. Given what we know about the original distribution of the data (roughly 50% split), this is already a substantial improvement over what would be blindly guessing."
   ]
  },
  {
   "cell_type": "code",
   "execution_count": 79,
   "metadata": {},
   "outputs": [
    {
     "data": {
      "text/html": [
       "<div>\n",
       "<style scoped>\n",
       "    .dataframe tbody tr th:only-of-type {\n",
       "        vertical-align: middle;\n",
       "    }\n",
       "\n",
       "    .dataframe tbody tr th {\n",
       "        vertical-align: top;\n",
       "    }\n",
       "\n",
       "    .dataframe thead th {\n",
       "        text-align: right;\n",
       "    }\n",
       "</style>\n",
       "<table border=\"1\" class=\"dataframe\">\n",
       "  <thead>\n",
       "    <tr style=\"text-align: right;\">\n",
       "      <th></th>\n",
       "      <th>feature</th>\n",
       "      <th>importance</th>\n",
       "    </tr>\n",
       "  </thead>\n",
       "  <tbody>\n",
       "    <tr>\n",
       "      <th>42</th>\n",
       "      <td>opinion_seas_vacc_effective_5.0</td>\n",
       "      <td>2.801442</td>\n",
       "    </tr>\n",
       "    <tr>\n",
       "      <th>48</th>\n",
       "      <td>opinion_seas_risk_5.0</td>\n",
       "      <td>2.501381</td>\n",
       "    </tr>\n",
       "    <tr>\n",
       "      <th>60</th>\n",
       "      <td>age_group_65+ Years</td>\n",
       "      <td>2.407817</td>\n",
       "    </tr>\n",
       "    <tr>\n",
       "      <th>24</th>\n",
       "      <td>doctor_recc_seasonal_1.0</td>\n",
       "      <td>2.396438</td>\n",
       "    </tr>\n",
       "    <tr>\n",
       "      <th>50</th>\n",
       "      <td>opinion_seas_sick_from_vacc_1.0</td>\n",
       "      <td>2.342896</td>\n",
       "    </tr>\n",
       "  </tbody>\n",
       "</table>\n",
       "</div>"
      ],
      "text/plain": [
       "                            feature  importance\n",
       "42  opinion_seas_vacc_effective_5.0    2.801442\n",
       "48            opinion_seas_risk_5.0    2.501381\n",
       "60              age_group_65+ Years    2.407817\n",
       "24         doctor_recc_seasonal_1.0    2.396438\n",
       "50  opinion_seas_sick_from_vacc_1.0    2.342896"
      ]
     },
     "execution_count": 79,
     "metadata": {},
     "output_type": "execute_result"
    }
   ],
   "source": [
    "feature_importance = pd.DataFrame(data={'feature':X_new.columns,'importance':pow(math.e,log_reg.coef_[0])}).sort_values(by='importance',\n",
    "                                                                                                                       ascending=False)\n",
    "feature_importance.head()"
   ]
  },
  {
   "cell_type": "code",
   "execution_count": 80,
   "metadata": {},
   "outputs": [
    {
     "data": {
      "text/html": [
       "<div>\n",
       "<style scoped>\n",
       "    .dataframe tbody tr th:only-of-type {\n",
       "        vertical-align: middle;\n",
       "    }\n",
       "\n",
       "    .dataframe tbody tr th {\n",
       "        vertical-align: top;\n",
       "    }\n",
       "\n",
       "    .dataframe thead th {\n",
       "        text-align: right;\n",
       "    }\n",
       "</style>\n",
       "<table border=\"1\" class=\"dataframe\">\n",
       "  <thead>\n",
       "    <tr style=\"text-align: right;\">\n",
       "      <th></th>\n",
       "      <th>feature</th>\n",
       "      <th>importance</th>\n",
       "    </tr>\n",
       "  </thead>\n",
       "  <tbody>\n",
       "    <tr>\n",
       "      <th>56</th>\n",
       "      <td>age_group_18 - 34 Years</td>\n",
       "      <td>0.566757</td>\n",
       "    </tr>\n",
       "    <tr>\n",
       "      <th>38</th>\n",
       "      <td>opinion_seas_vacc_effective_1.0</td>\n",
       "      <td>0.539672</td>\n",
       "    </tr>\n",
       "    <tr>\n",
       "      <th>39</th>\n",
       "      <td>opinion_seas_vacc_effective_2.0</td>\n",
       "      <td>0.414018</td>\n",
       "    </tr>\n",
       "    <tr>\n",
       "      <th>52</th>\n",
       "      <td>opinion_seas_sick_from_vacc_3.0</td>\n",
       "      <td>0.329360</td>\n",
       "    </tr>\n",
       "    <tr>\n",
       "      <th>44</th>\n",
       "      <td>opinion_seas_risk_1.0</td>\n",
       "      <td>0.271068</td>\n",
       "    </tr>\n",
       "  </tbody>\n",
       "</table>\n",
       "</div>"
      ],
      "text/plain": [
       "                            feature  importance\n",
       "56          age_group_18 - 34 Years    0.566757\n",
       "38  opinion_seas_vacc_effective_1.0    0.539672\n",
       "39  opinion_seas_vacc_effective_2.0    0.414018\n",
       "52  opinion_seas_sick_from_vacc_3.0    0.329360\n",
       "44            opinion_seas_risk_1.0    0.271068"
      ]
     },
     "execution_count": 80,
     "metadata": {},
     "output_type": "execute_result"
    }
   ],
   "source": [
    "feature_importance.tail()"
   ]
  },
  {
   "cell_type": "code",
   "execution_count": 89,
   "metadata": {},
   "outputs": [
    {
     "data": {
      "image/png": "[encoded data removed]",
      "text/plain": [
       "<Figure size 432x1080 with 1 Axes>"
      ]
     },
     "metadata": {
      "needs_background": "light"
     },
     "output_type": "display_data"
    }
   ],
   "source": [
    "f, ax = plt.subplots(figsize=(6, 15))\n",
    "sns.barplot(x=\"importance\", y=\"feature\", data=feature_importance,orient='h');"
   ]
  },
  {
   "cell_type": "code",
   "execution_count": 101,
   "metadata": {},
   "outputs": [
    {
     "name": "stderr",
     "output_type": "stream",
     "text": [
      "/Users/Amelia/opt/anaconda3/envs/learn-env/lib/python3.8/site-packages/sklearn/linear_model/_logistic.py:762: ConvergenceWarning: lbfgs failed to converge (status=1):\n",
      "STOP: TOTAL NO. of ITERATIONS REACHED LIMIT.\n",
      "\n",
      "Increase the number of iterations (max_iter) or scale the data as shown in:\n",
      "    https://scikit-learn.org/stable/modules/preprocessing.html\n",
      "Please also refer to the documentation for alternative solver options:\n",
      "    https://scikit-learn.org/stable/modules/linear_model.html#logistic-regression\n",
      "  n_iter_i = _check_optimize_result(\n"
     ]
    }
   ],
   "source": [
    "log_reg_l1 = LogisticRegression(random_state=42)\n",
    "\n",
    "log_reg_l1.fit(X_new,y)\n",
    "\n",
    "preds_l1 = log_reg_l1.predict(X_new)"
   ]
  },
  {
   "cell_type": "code",
   "execution_count": 102,
   "metadata": {},
   "outputs": [
    {
     "name": "stderr",
     "output_type": "stream",
     "text": [
      "/Users/Amelia/opt/anaconda3/envs/learn-env/lib/python3.8/site-packages/sklearn/linear_model/_logistic.py:762: ConvergenceWarning: lbfgs failed to converge (status=1):\n",
      "STOP: TOTAL NO. of ITERATIONS REACHED LIMIT.\n",
      "\n",
      "Increase the number of iterations (max_iter) or scale the data as shown in:\n",
      "    https://scikit-learn.org/stable/modules/preprocessing.html\n",
      "Please also refer to the documentation for alternative solver options:\n",
      "    https://scikit-learn.org/stable/modules/linear_model.html#logistic-regression\n",
      "  n_iter_i = _check_optimize_result(\n",
      "/Users/Amelia/opt/anaconda3/envs/learn-env/lib/python3.8/site-packages/sklearn/linear_model/_logistic.py:762: ConvergenceWarning: lbfgs failed to converge (status=1):\n",
      "STOP: TOTAL NO. of ITERATIONS REACHED LIMIT.\n",
      "\n",
      "Increase the number of iterations (max_iter) or scale the data as shown in:\n",
      "    https://scikit-learn.org/stable/modules/preprocessing.html\n",
      "Please also refer to the documentation for alternative solver options:\n",
      "    https://scikit-learn.org/stable/modules/linear_model.html#logistic-regression\n",
      "  n_iter_i = _check_optimize_result(\n",
      "/Users/Amelia/opt/anaconda3/envs/learn-env/lib/python3.8/site-packages/sklearn/linear_model/_logistic.py:762: ConvergenceWarning: lbfgs failed to converge (status=1):\n",
      "STOP: TOTAL NO. of ITERATIONS REACHED LIMIT.\n",
      "\n",
      "Increase the number of iterations (max_iter) or scale the data as shown in:\n",
      "    https://scikit-learn.org/stable/modules/preprocessing.html\n",
      "Please also refer to the documentation for alternative solver options:\n",
      "    https://scikit-learn.org/stable/modules/linear_model.html#logistic-regression\n",
      "  n_iter_i = _check_optimize_result(\n",
      "/Users/Amelia/opt/anaconda3/envs/learn-env/lib/python3.8/site-packages/sklearn/linear_model/_logistic.py:762: ConvergenceWarning: lbfgs failed to converge (status=1):\n",
      "STOP: TOTAL NO. of ITERATIONS REACHED LIMIT.\n",
      "\n",
      "Increase the number of iterations (max_iter) or scale the data as shown in:\n",
      "    https://scikit-learn.org/stable/modules/preprocessing.html\n",
      "Please also refer to the documentation for alternative solver options:\n",
      "    https://scikit-learn.org/stable/modules/linear_model.html#logistic-regression\n",
      "  n_iter_i = _check_optimize_result(\n",
      "/Users/Amelia/opt/anaconda3/envs/learn-env/lib/python3.8/site-packages/sklearn/linear_model/_logistic.py:762: ConvergenceWarning: lbfgs failed to converge (status=1):\n",
      "STOP: TOTAL NO. of ITERATIONS REACHED LIMIT.\n",
      "\n",
      "Increase the number of iterations (max_iter) or scale the data as shown in:\n",
      "    https://scikit-learn.org/stable/modules/preprocessing.html\n",
      "Please also refer to the documentation for alternative solver options:\n",
      "    https://scikit-learn.org/stable/modules/linear_model.html#logistic-regression\n",
      "  n_iter_i = _check_optimize_result(\n"
     ]
    },
    {
     "data": {
      "text/plain": [
       "0.7785170213741642"
      ]
     },
     "execution_count": 102,
     "metadata": {},
     "output_type": "execute_result"
    }
   ],
   "source": [
    "np.mean(cross_val_score(log_reg_l1,X_new,y,cv=5))"
   ]
  },
  {
   "cell_type": "code",
   "execution_count": 104,
   "metadata": {},
   "outputs": [
    {
     "data": {
      "text/plain": [
       "GridSearchCV(cv=5,\n",
       "             estimator=LogisticRegression(C=1e+16, fit_intercept=False,\n",
       "                                          random_state=42, solver='liblinear'),\n",
       "             param_grid={'C': [1, 50, 100, 1000, 10000, 1e+16],\n",
       "                         'fit_intercept': [True, False]})"
      ]
     },
     "execution_count": 104,
     "metadata": {},
     "output_type": "execute_result"
    }
   ],
   "source": [
    "# try using GridSearchCV to see if any paramters can be improved\n",
    "params = ({'fit_intercept':[True,False],\n",
    "           'C':[1,50,100,1000,10000,1e16]})\n",
    "\n",
    "grid_search = GridSearchCV(log_reg,params,cv=5)\n",
    "\n",
    "grid_search.fit(X_new,y)"
   ]
  },
  {
   "cell_type": "code",
   "execution_count": 105,
   "metadata": {},
   "outputs": [
    {
     "data": {
      "text/plain": [
       "{'C': 1, 'fit_intercept': True}"
      ]
     },
     "execution_count": 105,
     "metadata": {},
     "output_type": "execute_result"
    }
   ],
   "source": [
    "grid_search.best_params_"
   ]
  },
  {
   "cell_type": "code",
   "execution_count": 109,
   "metadata": {},
   "outputs": [
    {
     "data": {
      "text/plain": [
       "0.7784508766651624"
      ]
     },
     "execution_count": 109,
     "metadata": {},
     "output_type": "execute_result"
    }
   ],
   "source": [
    "np.mean(grid_search.cv_results_['mean_test_score'])"
   ]
  },
  {
   "cell_type": "code",
   "execution_count": 111,
   "metadata": {},
   "outputs": [
    {
     "data": {
      "text/plain": [
       "{'mean_fit_time': array([0.11151175, 0.11117067, 0.12690878, 0.11413221, 0.12396641,\n",
       "        0.12118993, 0.11073861, 0.12267599, 0.11710844, 0.11237159,\n",
       "        0.11222701, 0.11978645]),\n",
       " 'std_fit_time': array([0.01797333, 0.01256193, 0.00627784, 0.01578762, 0.0132015 ,\n",
       "        0.00732093, 0.01545401, 0.01920226, 0.01188437, 0.01627029,\n",
       "        0.01140508, 0.0042331 ]),\n",
       " 'mean_score_time': array([0.00218363, 0.00218143, 0.00199542, 0.00216932, 0.00202699,\n",
       "        0.00229635, 0.00221205, 0.00215702, 0.0019484 , 0.00204315,\n",
       "        0.00190539, 0.0019012 ]),\n",
       " 'std_score_time': array([2.16306990e-04, 3.26253768e-04, 3.90891896e-05, 2.03055571e-04,\n",
       "        4.39167799e-05, 5.41860207e-04, 3.48572594e-04, 3.01003863e-04,\n",
       "        3.29712811e-05, 7.64278786e-05, 3.01489320e-05, 3.66389708e-06]),\n",
       " 'param_C': masked_array(data=[1, 1, 50, 50, 100, 100, 1000, 1000, 10000, 10000,\n",
       "                    1e+16, 1e+16],\n",
       "              mask=[False, False, False, False, False, False, False, False,\n",
       "                    False, False, False, False],\n",
       "        fill_value='?',\n",
       "             dtype=object),\n",
       " 'param_fit_intercept': masked_array(data=[True, False, True, False, True, False, True, False,\n",
       "                    True, False, True, False],\n",
       "              mask=[False, False, False, False, False, False, False, False,\n",
       "                    False, False, False, False],\n",
       "        fill_value='?',\n",
       "             dtype=object),\n",
       " 'params': [{'C': 1, 'fit_intercept': True},\n",
       "  {'C': 1, 'fit_intercept': False},\n",
       "  {'C': 50, 'fit_intercept': True},\n",
       "  {'C': 50, 'fit_intercept': False},\n",
       "  {'C': 100, 'fit_intercept': True},\n",
       "  {'C': 100, 'fit_intercept': False},\n",
       "  {'C': 1000, 'fit_intercept': True},\n",
       "  {'C': 1000, 'fit_intercept': False},\n",
       "  {'C': 10000, 'fit_intercept': True},\n",
       "  {'C': 10000, 'fit_intercept': False},\n",
       "  {'C': 1e+16, 'fit_intercept': True},\n",
       "  {'C': 1e+16, 'fit_intercept': False}],\n",
       " 'split0_test_score': array([0.77135299, 0.77135299, 0.77116402, 0.77116402, 0.77116402,\n",
       "        0.77116402, 0.77135299, 0.77116402, 0.77116402, 0.77116402,\n",
       "        0.77116402, 0.77116402]),\n",
       " 'split1_test_score': array([0.78344671, 0.78344671, 0.78306878, 0.78306878, 0.78306878,\n",
       "        0.78306878, 0.78306878, 0.78306878, 0.78306878, 0.78306878,\n",
       "        0.78306878, 0.78306878]),\n",
       " 'split2_test_score': array([0.77739985, 0.77739985, 0.77777778, 0.77777778, 0.77777778,\n",
       "        0.77777778, 0.77777778, 0.77777778, 0.77777778, 0.77777778,\n",
       "        0.77777778, 0.77777778]),\n",
       " 'split3_test_score': array([0.78359478, 0.78359478, 0.78359478, 0.78359478, 0.78359478,\n",
       "        0.78359478, 0.78359478, 0.78359478, 0.78359478, 0.78359478,\n",
       "        0.78359478, 0.78359478]),\n",
       " 'split4_test_score': array([0.77660178, 0.77660178, 0.77660178, 0.77660178, 0.77660178,\n",
       "        0.77660178, 0.77660178, 0.77660178, 0.77660178, 0.77660178,\n",
       "        0.77660178, 0.77660178]),\n",
       " 'mean_test_score': array([0.77847922, 0.77847922, 0.77844143, 0.77844143, 0.77844143,\n",
       "        0.77844143, 0.77847922, 0.77844143, 0.77844143, 0.77844143,\n",
       "        0.77844143, 0.77844143]),\n",
       " 'std_test_score': array([0.00461125, 0.00461125, 0.00457722, 0.00457722, 0.00457722,\n",
       "        0.00457722, 0.00451737, 0.00457722, 0.00457722, 0.00457722,\n",
       "        0.00457722, 0.00457722]),\n",
       " 'rank_test_score': array([1, 1, 4, 4, 4, 4, 1, 4, 4, 4, 4, 4], dtype=int32)}"
      ]
     },
     "execution_count": 111,
     "metadata": {},
     "output_type": "execute_result"
    }
   ],
   "source": [
    "grid_search.cv_results_"
   ]
  },
  {
   "cell_type": "code",
   "execution_count": 112,
   "metadata": {},
   "outputs": [
    {
     "data": {
      "text/plain": [
       "GridSearchCV(cv=5,\n",
       "             estimator=LogisticRegression(C=1e+16, fit_intercept=False,\n",
       "                                          random_state=42, solver='liblinear'),\n",
       "             param_grid={'C': [1, 10, 20, 30, 40],\n",
       "                         'fit_intercept': [True, False]})"
      ]
     },
     "execution_count": 112,
     "metadata": {},
     "output_type": "execute_result"
    }
   ],
   "source": [
    "# try using GridSearchCV to see if any paramters can be improved\n",
    "params = ({'fit_intercept':[True,False],\n",
    "           'C':[1,10,20,30,40]})\n",
    "\n",
    "grid_search = GridSearchCV(log_reg,params,cv=5)\n",
    "\n",
    "grid_search.fit(X_new,y)"
   ]
  },
  {
   "cell_type": "code",
   "execution_count": 113,
   "metadata": {},
   "outputs": [
    {
     "data": {
      "text/plain": [
       "{'C': 1, 'fit_intercept': True}"
      ]
     },
     "execution_count": 113,
     "metadata": {},
     "output_type": "execute_result"
    }
   ],
   "source": [
    "grid_search.best_params_"
   ]
  },
  {
   "cell_type": "markdown",
   "metadata": {},
   "source": [
    "## Model 2: Random Forest\n",
    "\n",
    "With the logistic regression model as a baseline for accuracy, a slightly more complex model might be in order. A random forest model makes use of multiple decision trees, but accounts for the variance in the model by limiting the number of features used in each tree as well as its depth. Because random forests have far more tunable parameters than simple logistic regressions, multiple grid searches will have to be used to tune the parameters fully."
   ]
  },
  {
   "cell_type": "code",
   "execution_count": 115,
   "metadata": {},
   "outputs": [],
   "source": [
    "X = X_new.copy()"
   ]
  },
  {
   "cell_type": "code",
   "execution_count": 127,
   "metadata": {},
   "outputs": [
    {
     "data": {
      "text/plain": [
       "RandomForestClassifier(random_state=42)"
      ]
     },
     "execution_count": 127,
     "metadata": {},
     "output_type": "execute_result"
    }
   ],
   "source": [
    "# create an initial random forest classifier\n",
    "rf = RandomForestClassifier(random_state=42)\n",
    "rf.fit(X,y)"
   ]
  },
  {
   "cell_type": "code",
   "execution_count": 120,
   "metadata": {},
   "outputs": [
    {
     "data": {
      "text/plain": [
       "0.9986771486884874"
      ]
     },
     "execution_count": 120,
     "metadata": {},
     "output_type": "execute_result"
    }
   ],
   "source": [
    "accuracy_score(y,preds_rf_test)"
   ]
  },
  {
   "cell_type": "code",
   "execution_count": 126,
   "metadata": {},
   "outputs": [
    {
     "data": {
      "text/plain": [
       "0.7719026290454861"
      ]
     },
     "execution_count": 126,
     "metadata": {},
     "output_type": "execute_result"
    }
   ],
   "source": [
    "np.mean(cross_val_score(rf_test,X,y,cv=5))"
   ]
  },
  {
   "cell_type": "markdown",
   "metadata": {},
   "source": [
    "The initial random forest, with default parameters, has roughly the same accuracy score as the logistic regression. To see if this can be improved upon, we must utilize grid searching of parameters to account for the fact that they are tuned simultaneously, which can affect results."
   ]
  },
  {
   "cell_type": "code",
   "execution_count": null,
   "metadata": {},
   "outputs": [],
   "source": [
    "# intialize parameter list for grid search #1\n",
    "params_rf_1 = ({'n_estimators':[30,50,100],\n",
    "                'criterion':['gini', 'entropy'],\n",
    "                'max_depth':[None,2,5,10],\n",
    "                'min_samples_split':[2,5,10],\n",
    "                'min_samples_leaf':[2,5,10]})\n",
    "\n",
    "rf_gs_1 = GridSearchCV(rf,params_rf_1,cv=3)\n",
    "rf_gs_1.fit(X,y)"
   ]
  }
 ],
 "metadata": {
  "kernelspec": {
   "display_name": "Python (learn-env)",
   "language": "python",
   "name": "learn-env"
  },
  "language_info": {
   "codemirror_mode": {
    "name": "ipython",
    "version": 3
   },
   "file_extension": ".py",
   "mimetype": "text/x-python",
   "name": "python",
   "nbconvert_exporter": "python",
   "pygments_lexer": "ipython3",
   "version": "3.8.5"
  }
 },
 "nbformat": 4,
 "nbformat_minor": 4
}
