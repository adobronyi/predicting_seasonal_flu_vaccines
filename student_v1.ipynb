{
 "cells": [
  {
   "cell_type": "markdown",
   "metadata": {},
   "source": [
    "## Introduction and Business Question\n",
    "\n",
    "Implementation of seasonal flu vaccination programs play a substantial role in public health. However, in 2022, only 49% of adults are planning on obtaining a flu vaccine, despite the risks posed in forgoing it. The purpose of this project is to understand which demographics are least likely to get a flu vaccine, in order for officials to better target those demographics and utilize limited marketing resources to expanding the percentage of the population that chooses to be vaccinated. \n",
    "\n",
    "The models built in this project will attempt to classify whether or not an individual is likely to be vaccinated based on collected demographic data. The models will be assessed on an overall accuracy score - whether or not an individual's tendency was correctly predicted. Though the more important target in the scope of public health would be to err on the side of conservativeness - it is better to be wrong about a person not getting the vaccine than actually thinking they will get it - the business problem here is to assess what demographics should be targeted as predictors of not getting a seasonal flu vaccine. "
   ]
  },
  {
   "cell_type": "markdown",
   "metadata": {},
   "source": [
    "## Data Cleaning and Exploration\n",
    "\n",
    "The data set used in this business is a survey of demographic information for 26,707 individuals and their decision to be vaccinated for either the H1H1 or seasonal flu vaccine. This project will focus solely on the seasonal flu vaccine. "
   ]
  },
  {
   "cell_type": "code",
   "execution_count": 1,
   "metadata": {},
   "outputs": [],
   "source": [
    "# import packages\n",
    "import pandas as pd\n",
    "import numpy as np\n",
    "import math\n",
    "import seaborn as sns\n",
    "import matplotlib.pyplot as plt\n",
    "\n",
    "from sklearn.preprocessing import StandardScaler\n",
    "\n",
    "from sklearn.linear_model import LogisticRegression\n",
    "\n",
    "from sklearn.metrics import accuracy_score,f1_score,confusion_matrix\n",
    "\n",
    "from sklearn.model_selection import train_test_split,cross_val_score,GridSearchCV\n",
    "\n",
    "from sklearn.ensemble import RandomForestClassifier\n",
    "\n",
    "from xgboost import XGBClassifier"
   ]
  },
  {
   "cell_type": "code",
   "execution_count": 2,
   "metadata": {},
   "outputs": [
    {
     "data": {
      "text/html": [
       "<div>\n",
       "<style scoped>\n",
       "    .dataframe tbody tr th:only-of-type {\n",
       "        vertical-align: middle;\n",
       "    }\n",
       "\n",
       "    .dataframe tbody tr th {\n",
       "        vertical-align: top;\n",
       "    }\n",
       "\n",
       "    .dataframe thead th {\n",
       "        text-align: right;\n",
       "    }\n",
       "</style>\n",
       "<table border=\"1\" class=\"dataframe\">\n",
       "  <thead>\n",
       "    <tr style=\"text-align: right;\">\n",
       "      <th></th>\n",
       "      <th>respondent_id</th>\n",
       "      <th>h1n1_concern</th>\n",
       "      <th>h1n1_knowledge</th>\n",
       "      <th>behavioral_antiviral_meds</th>\n",
       "      <th>behavioral_avoidance</th>\n",
       "      <th>behavioral_face_mask</th>\n",
       "      <th>behavioral_wash_hands</th>\n",
       "      <th>behavioral_large_gatherings</th>\n",
       "      <th>behavioral_outside_home</th>\n",
       "      <th>behavioral_touch_face</th>\n",
       "      <th>...</th>\n",
       "      <th>income_poverty</th>\n",
       "      <th>marital_status</th>\n",
       "      <th>rent_or_own</th>\n",
       "      <th>employment_status</th>\n",
       "      <th>hhs_geo_region</th>\n",
       "      <th>census_msa</th>\n",
       "      <th>household_adults</th>\n",
       "      <th>household_children</th>\n",
       "      <th>employment_industry</th>\n",
       "      <th>employment_occupation</th>\n",
       "    </tr>\n",
       "  </thead>\n",
       "  <tbody>\n",
       "    <tr>\n",
       "      <th>0</th>\n",
       "      <td>0</td>\n",
       "      <td>1.0</td>\n",
       "      <td>0.0</td>\n",
       "      <td>0.0</td>\n",
       "      <td>0.0</td>\n",
       "      <td>0.0</td>\n",
       "      <td>0.0</td>\n",
       "      <td>0.0</td>\n",
       "      <td>1.0</td>\n",
       "      <td>1.0</td>\n",
       "      <td>...</td>\n",
       "      <td>Below Poverty</td>\n",
       "      <td>Not Married</td>\n",
       "      <td>Own</td>\n",
       "      <td>Not in Labor Force</td>\n",
       "      <td>oxchjgsf</td>\n",
       "      <td>Non-MSA</td>\n",
       "      <td>0.0</td>\n",
       "      <td>0.0</td>\n",
       "      <td>NaN</td>\n",
       "      <td>NaN</td>\n",
       "    </tr>\n",
       "    <tr>\n",
       "      <th>1</th>\n",
       "      <td>1</td>\n",
       "      <td>3.0</td>\n",
       "      <td>2.0</td>\n",
       "      <td>0.0</td>\n",
       "      <td>1.0</td>\n",
       "      <td>0.0</td>\n",
       "      <td>1.0</td>\n",
       "      <td>0.0</td>\n",
       "      <td>1.0</td>\n",
       "      <td>1.0</td>\n",
       "      <td>...</td>\n",
       "      <td>Below Poverty</td>\n",
       "      <td>Not Married</td>\n",
       "      <td>Rent</td>\n",
       "      <td>Employed</td>\n",
       "      <td>bhuqouqj</td>\n",
       "      <td>MSA, Not Principle  City</td>\n",
       "      <td>0.0</td>\n",
       "      <td>0.0</td>\n",
       "      <td>pxcmvdjn</td>\n",
       "      <td>xgwztkwe</td>\n",
       "    </tr>\n",
       "    <tr>\n",
       "      <th>2</th>\n",
       "      <td>2</td>\n",
       "      <td>1.0</td>\n",
       "      <td>1.0</td>\n",
       "      <td>0.0</td>\n",
       "      <td>1.0</td>\n",
       "      <td>0.0</td>\n",
       "      <td>0.0</td>\n",
       "      <td>0.0</td>\n",
       "      <td>0.0</td>\n",
       "      <td>0.0</td>\n",
       "      <td>...</td>\n",
       "      <td>&lt;= $75,000, Above Poverty</td>\n",
       "      <td>Not Married</td>\n",
       "      <td>Own</td>\n",
       "      <td>Employed</td>\n",
       "      <td>qufhixun</td>\n",
       "      <td>MSA, Not Principle  City</td>\n",
       "      <td>2.0</td>\n",
       "      <td>0.0</td>\n",
       "      <td>rucpziij</td>\n",
       "      <td>xtkaffoo</td>\n",
       "    </tr>\n",
       "    <tr>\n",
       "      <th>3</th>\n",
       "      <td>3</td>\n",
       "      <td>1.0</td>\n",
       "      <td>1.0</td>\n",
       "      <td>0.0</td>\n",
       "      <td>1.0</td>\n",
       "      <td>0.0</td>\n",
       "      <td>1.0</td>\n",
       "      <td>1.0</td>\n",
       "      <td>0.0</td>\n",
       "      <td>0.0</td>\n",
       "      <td>...</td>\n",
       "      <td>Below Poverty</td>\n",
       "      <td>Not Married</td>\n",
       "      <td>Rent</td>\n",
       "      <td>Not in Labor Force</td>\n",
       "      <td>lrircsnp</td>\n",
       "      <td>MSA, Principle City</td>\n",
       "      <td>0.0</td>\n",
       "      <td>0.0</td>\n",
       "      <td>NaN</td>\n",
       "      <td>NaN</td>\n",
       "    </tr>\n",
       "    <tr>\n",
       "      <th>4</th>\n",
       "      <td>4</td>\n",
       "      <td>2.0</td>\n",
       "      <td>1.0</td>\n",
       "      <td>0.0</td>\n",
       "      <td>1.0</td>\n",
       "      <td>0.0</td>\n",
       "      <td>1.0</td>\n",
       "      <td>1.0</td>\n",
       "      <td>0.0</td>\n",
       "      <td>1.0</td>\n",
       "      <td>...</td>\n",
       "      <td>&lt;= $75,000, Above Poverty</td>\n",
       "      <td>Married</td>\n",
       "      <td>Own</td>\n",
       "      <td>Employed</td>\n",
       "      <td>qufhixun</td>\n",
       "      <td>MSA, Not Principle  City</td>\n",
       "      <td>1.0</td>\n",
       "      <td>0.0</td>\n",
       "      <td>wxleyezf</td>\n",
       "      <td>emcorrxb</td>\n",
       "    </tr>\n",
       "  </tbody>\n",
       "</table>\n",
       "<p>5 rows × 36 columns</p>\n",
       "</div>"
      ],
      "text/plain": [
       "   respondent_id  h1n1_concern  h1n1_knowledge  behavioral_antiviral_meds  \\\n",
       "0              0           1.0             0.0                        0.0   \n",
       "1              1           3.0             2.0                        0.0   \n",
       "2              2           1.0             1.0                        0.0   \n",
       "3              3           1.0             1.0                        0.0   \n",
       "4              4           2.0             1.0                        0.0   \n",
       "\n",
       "   behavioral_avoidance  behavioral_face_mask  behavioral_wash_hands  \\\n",
       "0                   0.0                   0.0                    0.0   \n",
       "1                   1.0                   0.0                    1.0   \n",
       "2                   1.0                   0.0                    0.0   \n",
       "3                   1.0                   0.0                    1.0   \n",
       "4                   1.0                   0.0                    1.0   \n",
       "\n",
       "   behavioral_large_gatherings  behavioral_outside_home  \\\n",
       "0                          0.0                      1.0   \n",
       "1                          0.0                      1.0   \n",
       "2                          0.0                      0.0   \n",
       "3                          1.0                      0.0   \n",
       "4                          1.0                      0.0   \n",
       "\n",
       "   behavioral_touch_face  ...             income_poverty  marital_status  \\\n",
       "0                    1.0  ...              Below Poverty     Not Married   \n",
       "1                    1.0  ...              Below Poverty     Not Married   \n",
       "2                    0.0  ...  <= $75,000, Above Poverty     Not Married   \n",
       "3                    0.0  ...              Below Poverty     Not Married   \n",
       "4                    1.0  ...  <= $75,000, Above Poverty         Married   \n",
       "\n",
       "   rent_or_own   employment_status  hhs_geo_region                census_msa  \\\n",
       "0          Own  Not in Labor Force        oxchjgsf                   Non-MSA   \n",
       "1         Rent            Employed        bhuqouqj  MSA, Not Principle  City   \n",
       "2          Own            Employed        qufhixun  MSA, Not Principle  City   \n",
       "3         Rent  Not in Labor Force        lrircsnp       MSA, Principle City   \n",
       "4          Own            Employed        qufhixun  MSA, Not Principle  City   \n",
       "\n",
       "   household_adults  household_children  employment_industry  \\\n",
       "0               0.0                 0.0                  NaN   \n",
       "1               0.0                 0.0             pxcmvdjn   \n",
       "2               2.0                 0.0             rucpziij   \n",
       "3               0.0                 0.0                  NaN   \n",
       "4               1.0                 0.0             wxleyezf   \n",
       "\n",
       "   employment_occupation  \n",
       "0                    NaN  \n",
       "1               xgwztkwe  \n",
       "2               xtkaffoo  \n",
       "3                    NaN  \n",
       "4               emcorrxb  \n",
       "\n",
       "[5 rows x 36 columns]"
      ]
     },
     "execution_count": 2,
     "metadata": {},
     "output_type": "execute_result"
    }
   ],
   "source": [
    "# import and examine data\n",
    "df = pd.read_csv('training_set_features.csv')\n",
    "df.head()"
   ]
  },
  {
   "cell_type": "code",
   "execution_count": 3,
   "metadata": {},
   "outputs": [
    {
     "data": {
      "text/plain": [
       "(26707, 36)"
      ]
     },
     "execution_count": 3,
     "metadata": {},
     "output_type": "execute_result"
    }
   ],
   "source": [
    "df.shape"
   ]
  },
  {
   "cell_type": "code",
   "execution_count": 4,
   "metadata": {},
   "outputs": [
    {
     "data": {
      "text/html": [
       "<div>\n",
       "<style scoped>\n",
       "    .dataframe tbody tr th:only-of-type {\n",
       "        vertical-align: middle;\n",
       "    }\n",
       "\n",
       "    .dataframe tbody tr th {\n",
       "        vertical-align: top;\n",
       "    }\n",
       "\n",
       "    .dataframe thead th {\n",
       "        text-align: right;\n",
       "    }\n",
       "</style>\n",
       "<table border=\"1\" class=\"dataframe\">\n",
       "  <thead>\n",
       "    <tr style=\"text-align: right;\">\n",
       "      <th></th>\n",
       "      <th>respondent_id</th>\n",
       "      <th>h1n1_vaccine</th>\n",
       "      <th>seasonal_vaccine</th>\n",
       "    </tr>\n",
       "  </thead>\n",
       "  <tbody>\n",
       "    <tr>\n",
       "      <th>0</th>\n",
       "      <td>0</td>\n",
       "      <td>0</td>\n",
       "      <td>0</td>\n",
       "    </tr>\n",
       "    <tr>\n",
       "      <th>1</th>\n",
       "      <td>1</td>\n",
       "      <td>0</td>\n",
       "      <td>1</td>\n",
       "    </tr>\n",
       "    <tr>\n",
       "      <th>2</th>\n",
       "      <td>2</td>\n",
       "      <td>0</td>\n",
       "      <td>0</td>\n",
       "    </tr>\n",
       "    <tr>\n",
       "      <th>3</th>\n",
       "      <td>3</td>\n",
       "      <td>0</td>\n",
       "      <td>1</td>\n",
       "    </tr>\n",
       "    <tr>\n",
       "      <th>4</th>\n",
       "      <td>4</td>\n",
       "      <td>0</td>\n",
       "      <td>0</td>\n",
       "    </tr>\n",
       "  </tbody>\n",
       "</table>\n",
       "</div>"
      ],
      "text/plain": [
       "   respondent_id  h1n1_vaccine  seasonal_vaccine\n",
       "0              0             0                 0\n",
       "1              1             0                 1\n",
       "2              2             0                 0\n",
       "3              3             0                 1\n",
       "4              4             0                 0"
      ]
     },
     "execution_count": 4,
     "metadata": {},
     "output_type": "execute_result"
    }
   ],
   "source": [
    "# import training labels\n",
    "labels = pd.read_csv('labels.csv')\n",
    "labels.head()"
   ]
  },
  {
   "cell_type": "code",
   "execution_count": 5,
   "metadata": {},
   "outputs": [
    {
     "data": {
      "text/plain": [
       "0    0.534392\n",
       "1    0.465608\n",
       "Name: seasonal_vaccine, dtype: float64"
      ]
     },
     "execution_count": 5,
     "metadata": {},
     "output_type": "execute_result"
    }
   ],
   "source": [
    "# extract target column from training labels\n",
    "target = labels['seasonal_vaccine']\n",
    "target.value_counts(normalize=True)"
   ]
  },
  {
   "cell_type": "code",
   "execution_count": 6,
   "metadata": {},
   "outputs": [
    {
     "data": {
      "text/html": [
       "<div>\n",
       "<style scoped>\n",
       "    .dataframe tbody tr th:only-of-type {\n",
       "        vertical-align: middle;\n",
       "    }\n",
       "\n",
       "    .dataframe tbody tr th {\n",
       "        vertical-align: top;\n",
       "    }\n",
       "\n",
       "    .dataframe thead th {\n",
       "        text-align: right;\n",
       "    }\n",
       "</style>\n",
       "<table border=\"1\" class=\"dataframe\">\n",
       "  <thead>\n",
       "    <tr style=\"text-align: right;\">\n",
       "      <th></th>\n",
       "      <th>respondent_id</th>\n",
       "      <th>h1n1_concern</th>\n",
       "      <th>h1n1_knowledge</th>\n",
       "      <th>behavioral_antiviral_meds</th>\n",
       "      <th>behavioral_avoidance</th>\n",
       "      <th>behavioral_face_mask</th>\n",
       "      <th>behavioral_wash_hands</th>\n",
       "      <th>behavioral_large_gatherings</th>\n",
       "      <th>behavioral_outside_home</th>\n",
       "      <th>behavioral_touch_face</th>\n",
       "      <th>...</th>\n",
       "      <th>marital_status</th>\n",
       "      <th>rent_or_own</th>\n",
       "      <th>employment_status</th>\n",
       "      <th>hhs_geo_region</th>\n",
       "      <th>census_msa</th>\n",
       "      <th>household_adults</th>\n",
       "      <th>household_children</th>\n",
       "      <th>employment_industry</th>\n",
       "      <th>employment_occupation</th>\n",
       "      <th>seasonal_vaccine</th>\n",
       "    </tr>\n",
       "  </thead>\n",
       "  <tbody>\n",
       "    <tr>\n",
       "      <th>0</th>\n",
       "      <td>0</td>\n",
       "      <td>1.0</td>\n",
       "      <td>0.0</td>\n",
       "      <td>0.0</td>\n",
       "      <td>0.0</td>\n",
       "      <td>0.0</td>\n",
       "      <td>0.0</td>\n",
       "      <td>0.0</td>\n",
       "      <td>1.0</td>\n",
       "      <td>1.0</td>\n",
       "      <td>...</td>\n",
       "      <td>Not Married</td>\n",
       "      <td>Own</td>\n",
       "      <td>Not in Labor Force</td>\n",
       "      <td>oxchjgsf</td>\n",
       "      <td>Non-MSA</td>\n",
       "      <td>0.0</td>\n",
       "      <td>0.0</td>\n",
       "      <td>NaN</td>\n",
       "      <td>NaN</td>\n",
       "      <td>0</td>\n",
       "    </tr>\n",
       "    <tr>\n",
       "      <th>1</th>\n",
       "      <td>1</td>\n",
       "      <td>3.0</td>\n",
       "      <td>2.0</td>\n",
       "      <td>0.0</td>\n",
       "      <td>1.0</td>\n",
       "      <td>0.0</td>\n",
       "      <td>1.0</td>\n",
       "      <td>0.0</td>\n",
       "      <td>1.0</td>\n",
       "      <td>1.0</td>\n",
       "      <td>...</td>\n",
       "      <td>Not Married</td>\n",
       "      <td>Rent</td>\n",
       "      <td>Employed</td>\n",
       "      <td>bhuqouqj</td>\n",
       "      <td>MSA, Not Principle  City</td>\n",
       "      <td>0.0</td>\n",
       "      <td>0.0</td>\n",
       "      <td>pxcmvdjn</td>\n",
       "      <td>xgwztkwe</td>\n",
       "      <td>1</td>\n",
       "    </tr>\n",
       "    <tr>\n",
       "      <th>2</th>\n",
       "      <td>2</td>\n",
       "      <td>1.0</td>\n",
       "      <td>1.0</td>\n",
       "      <td>0.0</td>\n",
       "      <td>1.0</td>\n",
       "      <td>0.0</td>\n",
       "      <td>0.0</td>\n",
       "      <td>0.0</td>\n",
       "      <td>0.0</td>\n",
       "      <td>0.0</td>\n",
       "      <td>...</td>\n",
       "      <td>Not Married</td>\n",
       "      <td>Own</td>\n",
       "      <td>Employed</td>\n",
       "      <td>qufhixun</td>\n",
       "      <td>MSA, Not Principle  City</td>\n",
       "      <td>2.0</td>\n",
       "      <td>0.0</td>\n",
       "      <td>rucpziij</td>\n",
       "      <td>xtkaffoo</td>\n",
       "      <td>0</td>\n",
       "    </tr>\n",
       "    <tr>\n",
       "      <th>3</th>\n",
       "      <td>3</td>\n",
       "      <td>1.0</td>\n",
       "      <td>1.0</td>\n",
       "      <td>0.0</td>\n",
       "      <td>1.0</td>\n",
       "      <td>0.0</td>\n",
       "      <td>1.0</td>\n",
       "      <td>1.0</td>\n",
       "      <td>0.0</td>\n",
       "      <td>0.0</td>\n",
       "      <td>...</td>\n",
       "      <td>Not Married</td>\n",
       "      <td>Rent</td>\n",
       "      <td>Not in Labor Force</td>\n",
       "      <td>lrircsnp</td>\n",
       "      <td>MSA, Principle City</td>\n",
       "      <td>0.0</td>\n",
       "      <td>0.0</td>\n",
       "      <td>NaN</td>\n",
       "      <td>NaN</td>\n",
       "      <td>1</td>\n",
       "    </tr>\n",
       "    <tr>\n",
       "      <th>4</th>\n",
       "      <td>4</td>\n",
       "      <td>2.0</td>\n",
       "      <td>1.0</td>\n",
       "      <td>0.0</td>\n",
       "      <td>1.0</td>\n",
       "      <td>0.0</td>\n",
       "      <td>1.0</td>\n",
       "      <td>1.0</td>\n",
       "      <td>0.0</td>\n",
       "      <td>1.0</td>\n",
       "      <td>...</td>\n",
       "      <td>Married</td>\n",
       "      <td>Own</td>\n",
       "      <td>Employed</td>\n",
       "      <td>qufhixun</td>\n",
       "      <td>MSA, Not Principle  City</td>\n",
       "      <td>1.0</td>\n",
       "      <td>0.0</td>\n",
       "      <td>wxleyezf</td>\n",
       "      <td>emcorrxb</td>\n",
       "      <td>0</td>\n",
       "    </tr>\n",
       "  </tbody>\n",
       "</table>\n",
       "<p>5 rows × 37 columns</p>\n",
       "</div>"
      ],
      "text/plain": [
       "   respondent_id  h1n1_concern  h1n1_knowledge  behavioral_antiviral_meds  \\\n",
       "0              0           1.0             0.0                        0.0   \n",
       "1              1           3.0             2.0                        0.0   \n",
       "2              2           1.0             1.0                        0.0   \n",
       "3              3           1.0             1.0                        0.0   \n",
       "4              4           2.0             1.0                        0.0   \n",
       "\n",
       "   behavioral_avoidance  behavioral_face_mask  behavioral_wash_hands  \\\n",
       "0                   0.0                   0.0                    0.0   \n",
       "1                   1.0                   0.0                    1.0   \n",
       "2                   1.0                   0.0                    0.0   \n",
       "3                   1.0                   0.0                    1.0   \n",
       "4                   1.0                   0.0                    1.0   \n",
       "\n",
       "   behavioral_large_gatherings  behavioral_outside_home  \\\n",
       "0                          0.0                      1.0   \n",
       "1                          0.0                      1.0   \n",
       "2                          0.0                      0.0   \n",
       "3                          1.0                      0.0   \n",
       "4                          1.0                      0.0   \n",
       "\n",
       "   behavioral_touch_face  ...  marital_status  rent_or_own  \\\n",
       "0                    1.0  ...     Not Married          Own   \n",
       "1                    1.0  ...     Not Married         Rent   \n",
       "2                    0.0  ...     Not Married          Own   \n",
       "3                    0.0  ...     Not Married         Rent   \n",
       "4                    1.0  ...         Married          Own   \n",
       "\n",
       "    employment_status  hhs_geo_region                census_msa  \\\n",
       "0  Not in Labor Force        oxchjgsf                   Non-MSA   \n",
       "1            Employed        bhuqouqj  MSA, Not Principle  City   \n",
       "2            Employed        qufhixun  MSA, Not Principle  City   \n",
       "3  Not in Labor Force        lrircsnp       MSA, Principle City   \n",
       "4            Employed        qufhixun  MSA, Not Principle  City   \n",
       "\n",
       "   household_adults  household_children  employment_industry  \\\n",
       "0               0.0                 0.0                  NaN   \n",
       "1               0.0                 0.0             pxcmvdjn   \n",
       "2               2.0                 0.0             rucpziij   \n",
       "3               0.0                 0.0                  NaN   \n",
       "4               1.0                 0.0             wxleyezf   \n",
       "\n",
       "   employment_occupation  seasonal_vaccine  \n",
       "0                    NaN                 0  \n",
       "1               xgwztkwe                 1  \n",
       "2               xtkaffoo                 0  \n",
       "3                    NaN                 1  \n",
       "4               emcorrxb                 0  \n",
       "\n",
       "[5 rows x 37 columns]"
      ]
     },
     "execution_count": 6,
     "metadata": {},
     "output_type": "execute_result"
    }
   ],
   "source": [
    "# merge dataframes for the purpose of EDA\n",
    "df['seasonal_vaccine'] = labels['seasonal_vaccine']\n",
    "df.head()"
   ]
  },
  {
   "cell_type": "markdown",
   "metadata": {},
   "source": [
    "From looking at the distribution of the target variable, we see that the split is nearly even (considering the amount of data we have) - therefore, at this time we do not need to worry about class imbalance problems that would appear if one class of data was far more frequent than the other."
   ]
  },
  {
   "cell_type": "code",
   "execution_count": 7,
   "metadata": {},
   "outputs": [
    {
     "name": "stdout",
     "output_type": "stream",
     "text": [
      "<class 'pandas.core.frame.DataFrame'>\n",
      "RangeIndex: 26707 entries, 0 to 26706\n",
      "Data columns (total 37 columns):\n",
      " #   Column                       Non-Null Count  Dtype  \n",
      "---  ------                       --------------  -----  \n",
      " 0   respondent_id                26707 non-null  int64  \n",
      " 1   h1n1_concern                 26615 non-null  float64\n",
      " 2   h1n1_knowledge               26591 non-null  float64\n",
      " 3   behavioral_antiviral_meds    26636 non-null  float64\n",
      " 4   behavioral_avoidance         26499 non-null  float64\n",
      " 5   behavioral_face_mask         26688 non-null  float64\n",
      " 6   behavioral_wash_hands        26665 non-null  float64\n",
      " 7   behavioral_large_gatherings  26620 non-null  float64\n",
      " 8   behavioral_outside_home      26625 non-null  float64\n",
      " 9   behavioral_touch_face        26579 non-null  float64\n",
      " 10  doctor_recc_h1n1             24547 non-null  float64\n",
      " 11  doctor_recc_seasonal         24547 non-null  float64\n",
      " 12  chronic_med_condition        25736 non-null  float64\n",
      " 13  child_under_6_months         25887 non-null  float64\n",
      " 14  health_worker                25903 non-null  float64\n",
      " 15  health_insurance             14433 non-null  float64\n",
      " 16  opinion_h1n1_vacc_effective  26316 non-null  float64\n",
      " 17  opinion_h1n1_risk            26319 non-null  float64\n",
      " 18  opinion_h1n1_sick_from_vacc  26312 non-null  float64\n",
      " 19  opinion_seas_vacc_effective  26245 non-null  float64\n",
      " 20  opinion_seas_risk            26193 non-null  float64\n",
      " 21  opinion_seas_sick_from_vacc  26170 non-null  float64\n",
      " 22  age_group                    26707 non-null  object \n",
      " 23  education                    25300 non-null  object \n",
      " 24  race                         26707 non-null  object \n",
      " 25  sex                          26707 non-null  object \n",
      " 26  income_poverty               22284 non-null  object \n",
      " 27  marital_status               25299 non-null  object \n",
      " 28  rent_or_own                  24665 non-null  object \n",
      " 29  employment_status            25244 non-null  object \n",
      " 30  hhs_geo_region               26707 non-null  object \n",
      " 31  census_msa                   26707 non-null  object \n",
      " 32  household_adults             26458 non-null  float64\n",
      " 33  household_children           26458 non-null  float64\n",
      " 34  employment_industry          13377 non-null  object \n",
      " 35  employment_occupation        13237 non-null  object \n",
      " 36  seasonal_vaccine             26707 non-null  int64  \n",
      "dtypes: float64(23), int64(2), object(12)\n",
      "memory usage: 7.5+ MB\n"
     ]
    }
   ],
   "source": [
    "# examine data types\n",
    "df.info()"
   ]
  },
  {
   "cell_type": "code",
   "execution_count": 8,
   "metadata": {},
   "outputs": [
    {
     "data": {
      "text/plain": [
       "1.0    14474\n",
       "0.0     8056\n",
       "2.0     2803\n",
       "3.0     1125\n",
       "Name: household_adults, dtype: int64"
      ]
     },
     "execution_count": 8,
     "metadata": {},
     "output_type": "execute_result"
    }
   ],
   "source": [
    "df['household_adults'].value_counts()"
   ]
  },
  {
   "cell_type": "code",
   "execution_count": 9,
   "metadata": {},
   "outputs": [
    {
     "data": {
      "text/plain": [
       "0.0    18672\n",
       "1.0     3175\n",
       "2.0     2864\n",
       "3.0     1747\n",
       "Name: household_children, dtype: int64"
      ]
     },
     "execution_count": 9,
     "metadata": {},
     "output_type": "execute_result"
    }
   ],
   "source": [
    "df['household_children'].value_counts()"
   ]
  },
  {
   "cell_type": "markdown",
   "metadata": {},
   "source": [
    "From looking at the features above, and from examining the source descriptions of the features , we can remove some of the features from the start, specifically those that are related to the H1N1 virus and not the seasonal flu. Additionally, we can remove the respondent_id feature as this will not be used for predictive reasons.\n",
    "\n",
    "Feature documentation at this link: https://www.drivendata.org/competitions/66/flu-shot-learning/page/211/#labels"
   ]
  },
  {
   "cell_type": "code",
   "execution_count": 10,
   "metadata": {},
   "outputs": [],
   "source": [
    "drop_columns = ['respondent_id','h1n1_concern','h1n1_knowledge','doctor_recc_h1n1','opinion_h1n1_vacc_effective',\n",
    "                'opinion_h1n1_risk','opinion_h1n1_sick_from_vacc','hhs_geo_region','employment_industry',\n",
    "                'employment_occupation']\n",
    "df = df.drop(columns=drop_columns,axis=1)"
   ]
  },
  {
   "cell_type": "code",
   "execution_count": 11,
   "metadata": {},
   "outputs": [
    {
     "data": {
      "text/plain": [
       "behavioral_antiviral_meds         71\n",
       "behavioral_avoidance             208\n",
       "behavioral_face_mask              19\n",
       "behavioral_wash_hands             42\n",
       "behavioral_large_gatherings       87\n",
       "behavioral_outside_home           82\n",
       "behavioral_touch_face            128\n",
       "doctor_recc_seasonal            2160\n",
       "chronic_med_condition            971\n",
       "child_under_6_months             820\n",
       "health_worker                    804\n",
       "health_insurance               12274\n",
       "opinion_seas_vacc_effective      462\n",
       "opinion_seas_risk                514\n",
       "opinion_seas_sick_from_vacc      537\n",
       "age_group                          0\n",
       "education                       1407\n",
       "race                               0\n",
       "sex                                0\n",
       "income_poverty                  4423\n",
       "marital_status                  1408\n",
       "rent_or_own                     2042\n",
       "employment_status               1463\n",
       "census_msa                         0\n",
       "household_adults                 249\n",
       "household_children               249\n",
       "seasonal_vaccine                   0\n",
       "dtype: int64"
      ]
     },
     "execution_count": 11,
     "metadata": {},
     "output_type": "execute_result"
    }
   ],
   "source": [
    "df.isna().sum()"
   ]
  },
  {
   "cell_type": "markdown",
   "metadata": {},
   "source": [
    "Now that we have identified all of the missing values in the features data frame, we need to consider how to deal with missing data. The only two continuous variables in the features are number of adults and children outside of the household that an individual is exposed to. Because the missing values in those columns are a very small percentage of the data set, we can just drop those values. For the rest of the features, which are categorical, we are better off treating the missing values as their own category, so we can replace those missing values with labels."
   ]
  },
  {
   "cell_type": "code",
   "execution_count": 12,
   "metadata": {},
   "outputs": [],
   "source": [
    "missing_household_adults = df[df['household_adults'].isnull()].index.tolist()\n",
    "missing_household_children = df[df['household_children'].isnull()].index.tolist()\n",
    "combined = list(set(missing_household_adults+missing_household_children))\n",
    "df.drop(combined,axis=0,inplace=True)"
   ]
  },
  {
   "cell_type": "code",
   "execution_count": 13,
   "metadata": {},
   "outputs": [
    {
     "data": {
      "text/plain": [
       "behavioral_antiviral_meds         69\n",
       "behavioral_avoidance             204\n",
       "behavioral_face_mask              19\n",
       "behavioral_wash_hands             41\n",
       "behavioral_large_gatherings       85\n",
       "behavioral_outside_home           82\n",
       "behavioral_touch_face            127\n",
       "doctor_recc_seasonal            2097\n",
       "chronic_med_condition            777\n",
       "child_under_6_months             595\n",
       "health_worker                    588\n",
       "health_insurance               12029\n",
       "opinion_seas_vacc_effective      350\n",
       "opinion_seas_risk                386\n",
       "opinion_seas_sick_from_vacc      394\n",
       "age_group                          0\n",
       "education                       1170\n",
       "race                               0\n",
       "sex                                0\n",
       "income_poverty                  4181\n",
       "marital_status                  1172\n",
       "rent_or_own                     1804\n",
       "employment_status               1225\n",
       "census_msa                         0\n",
       "household_adults                   0\n",
       "household_children                 0\n",
       "seasonal_vaccine                   0\n",
       "dtype: int64"
      ]
     },
     "execution_count": 13,
     "metadata": {},
     "output_type": "execute_result"
    }
   ],
   "source": [
    "df.isna().sum()"
   ]
  },
  {
   "cell_type": "code",
   "execution_count": 14,
   "metadata": {},
   "outputs": [],
   "source": [
    "df.fillna('missing',inplace=True)"
   ]
  },
  {
   "cell_type": "code",
   "execution_count": 15,
   "metadata": {},
   "outputs": [
    {
     "data": {
      "text/plain": [
       "behavioral_antiviral_meds      0\n",
       "behavioral_avoidance           0\n",
       "behavioral_face_mask           0\n",
       "behavioral_wash_hands          0\n",
       "behavioral_large_gatherings    0\n",
       "behavioral_outside_home        0\n",
       "behavioral_touch_face          0\n",
       "doctor_recc_seasonal           0\n",
       "chronic_med_condition          0\n",
       "child_under_6_months           0\n",
       "health_worker                  0\n",
       "health_insurance               0\n",
       "opinion_seas_vacc_effective    0\n",
       "opinion_seas_risk              0\n",
       "opinion_seas_sick_from_vacc    0\n",
       "age_group                      0\n",
       "education                      0\n",
       "race                           0\n",
       "sex                            0\n",
       "income_poverty                 0\n",
       "marital_status                 0\n",
       "rent_or_own                    0\n",
       "employment_status              0\n",
       "census_msa                     0\n",
       "household_adults               0\n",
       "household_children             0\n",
       "seasonal_vaccine               0\n",
       "dtype: int64"
      ]
     },
     "execution_count": 15,
     "metadata": {},
     "output_type": "execute_result"
    }
   ],
   "source": [
    "df.isna().sum()"
   ]
  },
  {
   "cell_type": "code",
   "execution_count": 16,
   "metadata": {},
   "outputs": [
    {
     "name": "stdout",
     "output_type": "stream",
     "text": [
      "<class 'pandas.core.frame.DataFrame'>\n",
      "Int64Index: 26458 entries, 0 to 26706\n",
      "Data columns (total 27 columns):\n",
      " #   Column                       Non-Null Count  Dtype  \n",
      "---  ------                       --------------  -----  \n",
      " 0   behavioral_antiviral_meds    26458 non-null  object \n",
      " 1   behavioral_avoidance         26458 non-null  object \n",
      " 2   behavioral_face_mask         26458 non-null  object \n",
      " 3   behavioral_wash_hands        26458 non-null  object \n",
      " 4   behavioral_large_gatherings  26458 non-null  object \n",
      " 5   behavioral_outside_home      26458 non-null  object \n",
      " 6   behavioral_touch_face        26458 non-null  object \n",
      " 7   doctor_recc_seasonal         26458 non-null  object \n",
      " 8   chronic_med_condition        26458 non-null  object \n",
      " 9   child_under_6_months         26458 non-null  object \n",
      " 10  health_worker                26458 non-null  object \n",
      " 11  health_insurance             26458 non-null  object \n",
      " 12  opinion_seas_vacc_effective  26458 non-null  object \n",
      " 13  opinion_seas_risk            26458 non-null  object \n",
      " 14  opinion_seas_sick_from_vacc  26458 non-null  object \n",
      " 15  age_group                    26458 non-null  object \n",
      " 16  education                    26458 non-null  object \n",
      " 17  race                         26458 non-null  object \n",
      " 18  sex                          26458 non-null  object \n",
      " 19  income_poverty               26458 non-null  object \n",
      " 20  marital_status               26458 non-null  object \n",
      " 21  rent_or_own                  26458 non-null  object \n",
      " 22  employment_status            26458 non-null  object \n",
      " 23  census_msa                   26458 non-null  object \n",
      " 24  household_adults             26458 non-null  float64\n",
      " 25  household_children           26458 non-null  float64\n",
      " 26  seasonal_vaccine             26458 non-null  int64  \n",
      "dtypes: float64(2), int64(1), object(24)\n",
      "memory usage: 5.7+ MB\n"
     ]
    }
   ],
   "source": [
    "# check new data types\n",
    "df.info()"
   ]
  },
  {
   "cell_type": "markdown",
   "metadata": {},
   "source": [
    "As expected, with the exception of 'household_adults' and 'household_children,' the features are now object types, as they were previously binary integers and now have the possibility of containing the string 'missing' in place of missing values."
   ]
  },
  {
   "cell_type": "markdown",
   "metadata": {},
   "source": [
    "## Data Scaling and Splitting"
   ]
  },
  {
   "cell_type": "markdown",
   "metadata": {},
   "source": [
    "Before constructing the models, there are a few more pre-processing steps that must occur. First, the data needs to be split into training and test sets. This allows the models to be fit and optimized (via cross-validation) using the training set, while withholding some of the data to test the final models on. Once this split is done, the categorical data must be encoded as dummy variables, and then the data must be scaled to account for the numerical variables. This needs to be done after the train / test split to ensure there is no leakage between the partitioned data."
   ]
  },
  {
   "cell_type": "code",
   "execution_count": 17,
   "metadata": {},
   "outputs": [],
   "source": [
    "# split into features and target variable\n",
    "y = df['seasonal_vaccine']\n",
    "X = df.drop('seasonal_vaccine',axis=1)"
   ]
  },
  {
   "cell_type": "code",
   "execution_count": 18,
   "metadata": {},
   "outputs": [
    {
     "name": "stdout",
     "output_type": "stream",
     "text": [
      "(21166, 26)\n",
      "(5292, 26)\n",
      "(21166,)\n",
      "(5292,)\n"
     ]
    }
   ],
   "source": [
    "# perform the train test split on the data\n",
    "X_train,X_test,y_train,y_test = train_test_split(X,y,random_state=42,test_size=0.2)\n",
    "print(X_train.shape)\n",
    "print(X_test.shape)\n",
    "print(y_train.shape)\n",
    "print(y_test.shape)"
   ]
  },
  {
   "cell_type": "code",
   "execution_count": 19,
   "metadata": {},
   "outputs": [
    {
     "name": "stdout",
     "output_type": "stream",
     "text": [
      "(21166, 89)\n",
      "(5292, 89)\n"
     ]
    }
   ],
   "source": [
    "# encode categorical variables in training data\n",
    "X_train = pd.get_dummies(X_train)\n",
    "X_test = pd.get_dummies(X_test)\n",
    "X_train_columns = X_train.columns\n",
    "X_test_columns = X_train.columns\n",
    "\n",
    "print(X_train.shape)\n",
    "print(X_test.shape)"
   ]
  },
  {
   "cell_type": "code",
   "execution_count": 21,
   "metadata": {},
   "outputs": [
    {
     "data": {
      "text/html": [
       "<div>\n",
       "<style scoped>\n",
       "    .dataframe tbody tr th:only-of-type {\n",
       "        vertical-align: middle;\n",
       "    }\n",
       "\n",
       "    .dataframe tbody tr th {\n",
       "        vertical-align: top;\n",
       "    }\n",
       "\n",
       "    .dataframe thead th {\n",
       "        text-align: right;\n",
       "    }\n",
       "</style>\n",
       "<table border=\"1\" class=\"dataframe\">\n",
       "  <thead>\n",
       "    <tr style=\"text-align: right;\">\n",
       "      <th></th>\n",
       "      <th>household_adults</th>\n",
       "      <th>household_children</th>\n",
       "      <th>behavioral_antiviral_meds_0.0</th>\n",
       "      <th>behavioral_antiviral_meds_1.0</th>\n",
       "      <th>behavioral_antiviral_meds_missing</th>\n",
       "      <th>behavioral_avoidance_0.0</th>\n",
       "      <th>behavioral_avoidance_1.0</th>\n",
       "      <th>behavioral_avoidance_missing</th>\n",
       "      <th>behavioral_face_mask_0.0</th>\n",
       "      <th>behavioral_face_mask_1.0</th>\n",
       "      <th>...</th>\n",
       "      <th>rent_or_own_Own</th>\n",
       "      <th>rent_or_own_Rent</th>\n",
       "      <th>rent_or_own_missing</th>\n",
       "      <th>employment_status_Employed</th>\n",
       "      <th>employment_status_Not in Labor Force</th>\n",
       "      <th>employment_status_Unemployed</th>\n",
       "      <th>employment_status_missing</th>\n",
       "      <th>census_msa_MSA, Not Principle  City</th>\n",
       "      <th>census_msa_MSA, Principle City</th>\n",
       "      <th>census_msa_Non-MSA</th>\n",
       "    </tr>\n",
       "  </thead>\n",
       "  <tbody>\n",
       "    <tr>\n",
       "      <th>0</th>\n",
       "      <td>0.15027</td>\n",
       "      <td>0.501978</td>\n",
       "      <td>-4.327355</td>\n",
       "      <td>4.458000</td>\n",
       "      <td>-0.05287</td>\n",
       "      <td>-0.612041</td>\n",
       "      <td>0.624451</td>\n",
       "      <td>-0.089982</td>\n",
       "      <td>0.271391</td>\n",
       "      <td>-0.269581</td>\n",
       "      <td>...</td>\n",
       "      <td>0.646945</td>\n",
       "      <td>-0.541928</td>\n",
       "      <td>-0.270185</td>\n",
       "      <td>-1.020719</td>\n",
       "      <td>1.258593</td>\n",
       "      <td>-0.242984</td>\n",
       "      <td>-0.2221</td>\n",
       "      <td>-0.883092</td>\n",
       "      <td>-0.644888</td>\n",
       "      <td>1.652178</td>\n",
       "    </tr>\n",
       "    <tr>\n",
       "      <th>1</th>\n",
       "      <td>2.80743</td>\n",
       "      <td>-0.575158</td>\n",
       "      <td>0.231088</td>\n",
       "      <td>-0.224316</td>\n",
       "      <td>-0.05287</td>\n",
       "      <td>-0.612041</td>\n",
       "      <td>0.624451</td>\n",
       "      <td>-0.089982</td>\n",
       "      <td>0.271391</td>\n",
       "      <td>-0.269581</td>\n",
       "      <td>...</td>\n",
       "      <td>0.646945</td>\n",
       "      <td>-0.541928</td>\n",
       "      <td>-0.270185</td>\n",
       "      <td>-1.020719</td>\n",
       "      <td>-0.794538</td>\n",
       "      <td>4.115494</td>\n",
       "      <td>-0.2221</td>\n",
       "      <td>-0.883092</td>\n",
       "      <td>-0.644888</td>\n",
       "      <td>1.652178</td>\n",
       "    </tr>\n",
       "    <tr>\n",
       "      <th>2</th>\n",
       "      <td>0.15027</td>\n",
       "      <td>-0.575158</td>\n",
       "      <td>0.231088</td>\n",
       "      <td>-0.224316</td>\n",
       "      <td>-0.05287</td>\n",
       "      <td>-0.612041</td>\n",
       "      <td>0.624451</td>\n",
       "      <td>-0.089982</td>\n",
       "      <td>0.271391</td>\n",
       "      <td>-0.269581</td>\n",
       "      <td>...</td>\n",
       "      <td>0.646945</td>\n",
       "      <td>-0.541928</td>\n",
       "      <td>-0.270185</td>\n",
       "      <td>0.979701</td>\n",
       "      <td>-0.794538</td>\n",
       "      <td>-0.242984</td>\n",
       "      <td>-0.2221</td>\n",
       "      <td>-0.883092</td>\n",
       "      <td>-0.644888</td>\n",
       "      <td>1.652178</td>\n",
       "    </tr>\n",
       "    <tr>\n",
       "      <th>3</th>\n",
       "      <td>-1.17831</td>\n",
       "      <td>-0.575158</td>\n",
       "      <td>0.231088</td>\n",
       "      <td>-0.224316</td>\n",
       "      <td>-0.05287</td>\n",
       "      <td>-0.612041</td>\n",
       "      <td>0.624451</td>\n",
       "      <td>-0.089982</td>\n",
       "      <td>0.271391</td>\n",
       "      <td>-0.269581</td>\n",
       "      <td>...</td>\n",
       "      <td>0.646945</td>\n",
       "      <td>-0.541928</td>\n",
       "      <td>-0.270185</td>\n",
       "      <td>0.979701</td>\n",
       "      <td>-0.794538</td>\n",
       "      <td>-0.242984</td>\n",
       "      <td>-0.2221</td>\n",
       "      <td>1.132384</td>\n",
       "      <td>-0.644888</td>\n",
       "      <td>-0.605262</td>\n",
       "    </tr>\n",
       "    <tr>\n",
       "      <th>4</th>\n",
       "      <td>-1.17831</td>\n",
       "      <td>-0.575158</td>\n",
       "      <td>0.231088</td>\n",
       "      <td>-0.224316</td>\n",
       "      <td>-0.05287</td>\n",
       "      <td>1.633878</td>\n",
       "      <td>-1.601406</td>\n",
       "      <td>-0.089982</td>\n",
       "      <td>0.271391</td>\n",
       "      <td>-0.269581</td>\n",
       "      <td>...</td>\n",
       "      <td>-1.545727</td>\n",
       "      <td>1.845263</td>\n",
       "      <td>-0.270185</td>\n",
       "      <td>0.979701</td>\n",
       "      <td>-0.794538</td>\n",
       "      <td>-0.242984</td>\n",
       "      <td>-0.2221</td>\n",
       "      <td>1.132384</td>\n",
       "      <td>-0.644888</td>\n",
       "      <td>-0.605262</td>\n",
       "    </tr>\n",
       "  </tbody>\n",
       "</table>\n",
       "<p>5 rows × 89 columns</p>\n",
       "</div>"
      ],
      "text/plain": [
       "   household_adults  household_children  behavioral_antiviral_meds_0.0  \\\n",
       "0           0.15027            0.501978                      -4.327355   \n",
       "1           2.80743           -0.575158                       0.231088   \n",
       "2           0.15027           -0.575158                       0.231088   \n",
       "3          -1.17831           -0.575158                       0.231088   \n",
       "4          -1.17831           -0.575158                       0.231088   \n",
       "\n",
       "   behavioral_antiviral_meds_1.0  behavioral_antiviral_meds_missing  \\\n",
       "0                       4.458000                           -0.05287   \n",
       "1                      -0.224316                           -0.05287   \n",
       "2                      -0.224316                           -0.05287   \n",
       "3                      -0.224316                           -0.05287   \n",
       "4                      -0.224316                           -0.05287   \n",
       "\n",
       "   behavioral_avoidance_0.0  behavioral_avoidance_1.0  \\\n",
       "0                 -0.612041                  0.624451   \n",
       "1                 -0.612041                  0.624451   \n",
       "2                 -0.612041                  0.624451   \n",
       "3                 -0.612041                  0.624451   \n",
       "4                  1.633878                 -1.601406   \n",
       "\n",
       "   behavioral_avoidance_missing  behavioral_face_mask_0.0  \\\n",
       "0                     -0.089982                  0.271391   \n",
       "1                     -0.089982                  0.271391   \n",
       "2                     -0.089982                  0.271391   \n",
       "3                     -0.089982                  0.271391   \n",
       "4                     -0.089982                  0.271391   \n",
       "\n",
       "   behavioral_face_mask_1.0  ...  rent_or_own_Own  rent_or_own_Rent  \\\n",
       "0                 -0.269581  ...         0.646945         -0.541928   \n",
       "1                 -0.269581  ...         0.646945         -0.541928   \n",
       "2                 -0.269581  ...         0.646945         -0.541928   \n",
       "3                 -0.269581  ...         0.646945         -0.541928   \n",
       "4                 -0.269581  ...        -1.545727          1.845263   \n",
       "\n",
       "   rent_or_own_missing  employment_status_Employed  \\\n",
       "0            -0.270185                   -1.020719   \n",
       "1            -0.270185                   -1.020719   \n",
       "2            -0.270185                    0.979701   \n",
       "3            -0.270185                    0.979701   \n",
       "4            -0.270185                    0.979701   \n",
       "\n",
       "   employment_status_Not in Labor Force  employment_status_Unemployed  \\\n",
       "0                              1.258593                     -0.242984   \n",
       "1                             -0.794538                      4.115494   \n",
       "2                             -0.794538                     -0.242984   \n",
       "3                             -0.794538                     -0.242984   \n",
       "4                             -0.794538                     -0.242984   \n",
       "\n",
       "   employment_status_missing  census_msa_MSA, Not Principle  City  \\\n",
       "0                    -0.2221                            -0.883092   \n",
       "1                    -0.2221                            -0.883092   \n",
       "2                    -0.2221                            -0.883092   \n",
       "3                    -0.2221                             1.132384   \n",
       "4                    -0.2221                             1.132384   \n",
       "\n",
       "   census_msa_MSA, Principle City  census_msa_Non-MSA  \n",
       "0                       -0.644888            1.652178  \n",
       "1                       -0.644888            1.652178  \n",
       "2                       -0.644888            1.652178  \n",
       "3                       -0.644888           -0.605262  \n",
       "4                       -0.644888           -0.605262  \n",
       "\n",
       "[5 rows x 89 columns]"
      ]
     },
     "execution_count": 21,
     "metadata": {},
     "output_type": "execute_result"
    }
   ],
   "source": [
    "# scale training data\n",
    "scaler = StandardScaler()\n",
    "X_train_scaled = scaler.fit_transform(X_train)\n",
    "X_train = pd.DataFrame(X_train_scaled,columns=X_train_columns)\n",
    "X_train.head()"
   ]
  },
  {
   "cell_type": "code",
   "execution_count": 22,
   "metadata": {},
   "outputs": [
    {
     "data": {
      "text/html": [
       "<div>\n",
       "<style scoped>\n",
       "    .dataframe tbody tr th:only-of-type {\n",
       "        vertical-align: middle;\n",
       "    }\n",
       "\n",
       "    .dataframe tbody tr th {\n",
       "        vertical-align: top;\n",
       "    }\n",
       "\n",
       "    .dataframe thead th {\n",
       "        text-align: right;\n",
       "    }\n",
       "</style>\n",
       "<table border=\"1\" class=\"dataframe\">\n",
       "  <thead>\n",
       "    <tr style=\"text-align: right;\">\n",
       "      <th></th>\n",
       "      <th>household_adults</th>\n",
       "      <th>household_children</th>\n",
       "      <th>behavioral_antiviral_meds_0.0</th>\n",
       "      <th>behavioral_antiviral_meds_1.0</th>\n",
       "      <th>behavioral_antiviral_meds_missing</th>\n",
       "      <th>behavioral_avoidance_0.0</th>\n",
       "      <th>behavioral_avoidance_1.0</th>\n",
       "      <th>behavioral_avoidance_missing</th>\n",
       "      <th>behavioral_face_mask_0.0</th>\n",
       "      <th>behavioral_face_mask_1.0</th>\n",
       "      <th>...</th>\n",
       "      <th>rent_or_own_Own</th>\n",
       "      <th>rent_or_own_Rent</th>\n",
       "      <th>rent_or_own_missing</th>\n",
       "      <th>employment_status_Employed</th>\n",
       "      <th>employment_status_Not in Labor Force</th>\n",
       "      <th>employment_status_Unemployed</th>\n",
       "      <th>employment_status_missing</th>\n",
       "      <th>census_msa_MSA, Not Principle  City</th>\n",
       "      <th>census_msa_MSA, Principle City</th>\n",
       "      <th>census_msa_Non-MSA</th>\n",
       "    </tr>\n",
       "  </thead>\n",
       "  <tbody>\n",
       "    <tr>\n",
       "      <th>0</th>\n",
       "      <td>-1.17831</td>\n",
       "      <td>-0.575158</td>\n",
       "      <td>0.231088</td>\n",
       "      <td>-0.224316</td>\n",
       "      <td>-0.05287</td>\n",
       "      <td>-0.612041</td>\n",
       "      <td>0.624451</td>\n",
       "      <td>-0.089982</td>\n",
       "      <td>0.271391</td>\n",
       "      <td>-0.269581</td>\n",
       "      <td>...</td>\n",
       "      <td>0.646945</td>\n",
       "      <td>-0.541928</td>\n",
       "      <td>-0.270185</td>\n",
       "      <td>0.979701</td>\n",
       "      <td>-0.794538</td>\n",
       "      <td>-0.242984</td>\n",
       "      <td>-0.2221</td>\n",
       "      <td>-0.883092</td>\n",
       "      <td>-0.644888</td>\n",
       "      <td>1.652178</td>\n",
       "    </tr>\n",
       "    <tr>\n",
       "      <th>1</th>\n",
       "      <td>1.47885</td>\n",
       "      <td>-0.575158</td>\n",
       "      <td>0.231088</td>\n",
       "      <td>-0.224316</td>\n",
       "      <td>-0.05287</td>\n",
       "      <td>1.633878</td>\n",
       "      <td>-1.601406</td>\n",
       "      <td>-0.089982</td>\n",
       "      <td>0.271391</td>\n",
       "      <td>-0.269581</td>\n",
       "      <td>...</td>\n",
       "      <td>-1.545727</td>\n",
       "      <td>1.845263</td>\n",
       "      <td>-0.270185</td>\n",
       "      <td>0.979701</td>\n",
       "      <td>-0.794538</td>\n",
       "      <td>-0.242984</td>\n",
       "      <td>-0.2221</td>\n",
       "      <td>1.132384</td>\n",
       "      <td>-0.644888</td>\n",
       "      <td>-0.605262</td>\n",
       "    </tr>\n",
       "    <tr>\n",
       "      <th>2</th>\n",
       "      <td>0.15027</td>\n",
       "      <td>1.579114</td>\n",
       "      <td>0.231088</td>\n",
       "      <td>-0.224316</td>\n",
       "      <td>-0.05287</td>\n",
       "      <td>1.633878</td>\n",
       "      <td>-1.601406</td>\n",
       "      <td>-0.089982</td>\n",
       "      <td>0.271391</td>\n",
       "      <td>-0.269581</td>\n",
       "      <td>...</td>\n",
       "      <td>0.646945</td>\n",
       "      <td>-0.541928</td>\n",
       "      <td>-0.270185</td>\n",
       "      <td>0.979701</td>\n",
       "      <td>-0.794538</td>\n",
       "      <td>-0.242984</td>\n",
       "      <td>-0.2221</td>\n",
       "      <td>1.132384</td>\n",
       "      <td>-0.644888</td>\n",
       "      <td>-0.605262</td>\n",
       "    </tr>\n",
       "    <tr>\n",
       "      <th>3</th>\n",
       "      <td>0.15027</td>\n",
       "      <td>-0.575158</td>\n",
       "      <td>0.231088</td>\n",
       "      <td>-0.224316</td>\n",
       "      <td>-0.05287</td>\n",
       "      <td>-0.612041</td>\n",
       "      <td>0.624451</td>\n",
       "      <td>-0.089982</td>\n",
       "      <td>0.271391</td>\n",
       "      <td>-0.269581</td>\n",
       "      <td>...</td>\n",
       "      <td>0.646945</td>\n",
       "      <td>-0.541928</td>\n",
       "      <td>-0.270185</td>\n",
       "      <td>-1.020719</td>\n",
       "      <td>1.258593</td>\n",
       "      <td>-0.242984</td>\n",
       "      <td>-0.2221</td>\n",
       "      <td>-0.883092</td>\n",
       "      <td>-0.644888</td>\n",
       "      <td>1.652178</td>\n",
       "    </tr>\n",
       "    <tr>\n",
       "      <th>4</th>\n",
       "      <td>0.15027</td>\n",
       "      <td>1.579114</td>\n",
       "      <td>0.231088</td>\n",
       "      <td>-0.224316</td>\n",
       "      <td>-0.05287</td>\n",
       "      <td>-0.612041</td>\n",
       "      <td>0.624451</td>\n",
       "      <td>-0.089982</td>\n",
       "      <td>0.271391</td>\n",
       "      <td>-0.269581</td>\n",
       "      <td>...</td>\n",
       "      <td>-1.545727</td>\n",
       "      <td>1.845263</td>\n",
       "      <td>-0.270185</td>\n",
       "      <td>-1.020719</td>\n",
       "      <td>1.258593</td>\n",
       "      <td>-0.242984</td>\n",
       "      <td>-0.2221</td>\n",
       "      <td>-0.883092</td>\n",
       "      <td>-0.644888</td>\n",
       "      <td>1.652178</td>\n",
       "    </tr>\n",
       "  </tbody>\n",
       "</table>\n",
       "<p>5 rows × 89 columns</p>\n",
       "</div>"
      ],
      "text/plain": [
       "   household_adults  household_children  behavioral_antiviral_meds_0.0  \\\n",
       "0          -1.17831           -0.575158                       0.231088   \n",
       "1           1.47885           -0.575158                       0.231088   \n",
       "2           0.15027            1.579114                       0.231088   \n",
       "3           0.15027           -0.575158                       0.231088   \n",
       "4           0.15027            1.579114                       0.231088   \n",
       "\n",
       "   behavioral_antiviral_meds_1.0  behavioral_antiviral_meds_missing  \\\n",
       "0                      -0.224316                           -0.05287   \n",
       "1                      -0.224316                           -0.05287   \n",
       "2                      -0.224316                           -0.05287   \n",
       "3                      -0.224316                           -0.05287   \n",
       "4                      -0.224316                           -0.05287   \n",
       "\n",
       "   behavioral_avoidance_0.0  behavioral_avoidance_1.0  \\\n",
       "0                 -0.612041                  0.624451   \n",
       "1                  1.633878                 -1.601406   \n",
       "2                  1.633878                 -1.601406   \n",
       "3                 -0.612041                  0.624451   \n",
       "4                 -0.612041                  0.624451   \n",
       "\n",
       "   behavioral_avoidance_missing  behavioral_face_mask_0.0  \\\n",
       "0                     -0.089982                  0.271391   \n",
       "1                     -0.089982                  0.271391   \n",
       "2                     -0.089982                  0.271391   \n",
       "3                     -0.089982                  0.271391   \n",
       "4                     -0.089982                  0.271391   \n",
       "\n",
       "   behavioral_face_mask_1.0  ...  rent_or_own_Own  rent_or_own_Rent  \\\n",
       "0                 -0.269581  ...         0.646945         -0.541928   \n",
       "1                 -0.269581  ...        -1.545727          1.845263   \n",
       "2                 -0.269581  ...         0.646945         -0.541928   \n",
       "3                 -0.269581  ...         0.646945         -0.541928   \n",
       "4                 -0.269581  ...        -1.545727          1.845263   \n",
       "\n",
       "   rent_or_own_missing  employment_status_Employed  \\\n",
       "0            -0.270185                    0.979701   \n",
       "1            -0.270185                    0.979701   \n",
       "2            -0.270185                    0.979701   \n",
       "3            -0.270185                   -1.020719   \n",
       "4            -0.270185                   -1.020719   \n",
       "\n",
       "   employment_status_Not in Labor Force  employment_status_Unemployed  \\\n",
       "0                             -0.794538                     -0.242984   \n",
       "1                             -0.794538                     -0.242984   \n",
       "2                             -0.794538                     -0.242984   \n",
       "3                              1.258593                     -0.242984   \n",
       "4                              1.258593                     -0.242984   \n",
       "\n",
       "   employment_status_missing  census_msa_MSA, Not Principle  City  \\\n",
       "0                    -0.2221                            -0.883092   \n",
       "1                    -0.2221                             1.132384   \n",
       "2                    -0.2221                             1.132384   \n",
       "3                    -0.2221                            -0.883092   \n",
       "4                    -0.2221                            -0.883092   \n",
       "\n",
       "   census_msa_MSA, Principle City  census_msa_Non-MSA  \n",
       "0                       -0.644888            1.652178  \n",
       "1                       -0.644888           -0.605262  \n",
       "2                       -0.644888           -0.605262  \n",
       "3                       -0.644888            1.652178  \n",
       "4                       -0.644888            1.652178  \n",
       "\n",
       "[5 rows x 89 columns]"
      ]
     },
     "execution_count": 22,
     "metadata": {},
     "output_type": "execute_result"
    }
   ],
   "source": [
    "# scale test data\n",
    "X_test_scaled = scaler.transform(X_test)\n",
    "X_test = pd.DataFrame(X_test_scaled,columns=X_test_columns)\n",
    "X_test.head()"
   ]
  },
  {
   "cell_type": "markdown",
   "metadata": {},
   "source": [
    "## Model 1: Logistic Regression\n",
    "\n",
    "The first model fitted will be a logistic regression. Logistic regression outputs the probability of a classification, which we can then round to treat as an actual classification. For this business problem, which is to maximize the number of people who receive the vaccine, we will use accuracy as the score of predictive value for the final model chosen."
   ]
  },
  {
   "cell_type": "code",
   "execution_count": null,
   "metadata": {},
   "outputs": [],
   "source": [
    "# initialize logistic regression\n",
    "log_reg = LogisticRegression(solver='liblinear',C=1e16,fit_intercept=False,random_state=42)\n",
    "log_reg.fit(X_train,y_train)"
   ]
  },
  {
   "cell_type": "code",
   "execution_count": null,
   "metadata": {},
   "outputs": [],
   "source": [
    "np.mean(cross_val_score(log_reg,X_train,y_train,cv=5))"
   ]
  },
  {
   "cell_type": "markdown",
   "metadata": {},
   "source": [
    "After fitting a basic logistic regression model and evaluating with 5-fold cross-validation, we get an average score of 77.7% accuracy. Given what we know about the original distribution of the data (roughly 50% split), this is already a substantial improvement over what would be blindly guessing."
   ]
  },
  {
   "cell_type": "code",
   "execution_count": null,
   "metadata": {},
   "outputs": [],
   "source": [
    "feature_importance = pd.DataFrame(data={'feature':X_train.columns,'importance':pow(math.e,log_reg.coef_[0])}).sort_values(by='importance',\n",
    "                                                                                                                       ascending=False)\n",
    "feature_importance.head()"
   ]
  },
  {
   "cell_type": "code",
   "execution_count": null,
   "metadata": {},
   "outputs": [],
   "source": [
    "feature_importance.tail()"
   ]
  },
  {
   "cell_type": "code",
   "execution_count": null,
   "metadata": {},
   "outputs": [],
   "source": [
    "f, ax = plt.subplots(figsize=(6, 15))\n",
    "sns.barplot(x=\"importance\", y=\"feature\", data=feature_importance,orient='h');"
   ]
  },
  {
   "cell_type": "code",
   "execution_count": null,
   "metadata": {},
   "outputs": [],
   "source": [
    "log_reg_l1 = LogisticRegression(random_state=42)\n",
    "\n",
    "log_reg_l1.fit(X_new,y)\n",
    "\n",
    "preds_l1 = log_reg_l1.predict(X_new)"
   ]
  },
  {
   "cell_type": "code",
   "execution_count": null,
   "metadata": {},
   "outputs": [],
   "source": [
    "np.mean(cross_val_score(log_reg_l1,X_new,y,cv=5))"
   ]
  },
  {
   "cell_type": "code",
   "execution_count": null,
   "metadata": {},
   "outputs": [],
   "source": [
    "# try using GridSearchCV to see if any paramters can be improved\n",
    "params = ({'fit_intercept':[True,False],\n",
    "           'C':[1,50,100,1000,10000,1e16]})\n",
    "\n",
    "grid_search = GridSearchCV(log_reg,params,cv=5)\n",
    "\n",
    "grid_search.fit(X_train,y_train)"
   ]
  },
  {
   "cell_type": "code",
   "execution_count": null,
   "metadata": {},
   "outputs": [],
   "source": [
    "grid_search.best_params_"
   ]
  },
  {
   "cell_type": "code",
   "execution_count": null,
   "metadata": {},
   "outputs": [],
   "source": [
    "np.mean(grid_search.cv_results_['mean_test_score'])"
   ]
  },
  {
   "cell_type": "code",
   "execution_count": null,
   "metadata": {},
   "outputs": [],
   "source": [
    "grid_search.cv_results_"
   ]
  },
  {
   "cell_type": "code",
   "execution_count": null,
   "metadata": {},
   "outputs": [],
   "source": [
    "# try using GridSearchCV to see if any paramters can be improved\n",
    "params = ({'fit_intercept':[True,False],\n",
    "           'C':[1,10,20,30,40]})\n",
    "\n",
    "grid_search = GridSearchCV(log_reg,params,cv=5)\n",
    "\n",
    "grid_search.fit(X_train,y_train)"
   ]
  },
  {
   "cell_type": "code",
   "execution_count": null,
   "metadata": {},
   "outputs": [],
   "source": [
    "grid_search.best_params_"
   ]
  },
  {
   "cell_type": "code",
   "execution_count": null,
   "metadata": {},
   "outputs": [],
   "source": [
    "# get scores for final model\n",
    "log_reg_final = LogisticRegression(C=1,fit_intercept=True)\n",
    "log_reg_final.fit(X_train,y_train)\n",
    "pred_train = log_reg_final.predict(X_train)\n",
    "print('Training accuracy score:',round(accuracy_score(pred_train,y_train),5))\n",
    "\n",
    "pred_test = log_reg_final.predict(X_test)\n",
    "print('Testing accuracy score:',round(accuracy_score(pred_test,y_test),4))"
   ]
  },
  {
   "cell_type": "markdown",
   "metadata": {},
   "source": [
    "The final logistic regression model achieved an accuracy score of about 78% on both the training and testing models. The fact that the score is so similar on both data sets suggests that there is not much risk of overfitting."
   ]
  },
  {
   "cell_type": "markdown",
   "metadata": {},
   "source": [
    "## Model 2: Random Forest\n",
    "\n",
    "With the logistic regression model as a baseline for accuracy, a slightly more complex model might be in order. A random forest model makes use of multiple decision trees, but accounts for the variance in the model by limiting the number of features used in each tree as well as its depth. Because random forests have far more tunable parameters than simple logistic regressions, multiple grid searches will have to be used to tune the parameters fully."
   ]
  },
  {
   "cell_type": "code",
   "execution_count": null,
   "metadata": {},
   "outputs": [],
   "source": [
    "# create an initial random forest classifier\n",
    "rf = RandomForestClassifier(random_state=42)\n",
    "rf.fit(X_train,y_train)"
   ]
  },
  {
   "cell_type": "code",
   "execution_count": null,
   "metadata": {},
   "outputs": [],
   "source": [
    "np.mean(cross_val_score(rf,X_train,y_train,cv=5))"
   ]
  },
  {
   "cell_type": "markdown",
   "metadata": {},
   "source": [
    "The initial random forest, with default parameters, has roughly the same accuracy score as the logistic regression. To see if this can be improved upon, we must utilize grid searching of parameters to account for the fact that they are tuned simultaneously, which can affect results."
   ]
  },
  {
   "cell_type": "code",
   "execution_count": null,
   "metadata": {},
   "outputs": [],
   "source": [
    "# first grid search\n",
    "params_rf_1 = ({'n_estimators':[30,50,100],\n",
    "                'criterion':['gini', 'entropy'],\n",
    "                'max_depth':[None,2,10],\n",
    "                'min_samples_split':[2,10,15],\n",
    "                'min_samples_leaf':[2,10,15]})\n",
    "\n",
    "rf_gs_1 = GridSearchCV(rf,params_rf_1,cv=3)\n",
    "rf_gs_1.fit(X_train,y_train)"
   ]
  },
  {
   "cell_type": "code",
   "execution_count": null,
   "metadata": {},
   "outputs": [],
   "source": [
    "rf_gs_1.best_params_"
   ]
  },
  {
   "cell_type": "code",
   "execution_count": null,
   "metadata": {},
   "outputs": [],
   "source": [
    "rf_gs_1.best_score_"
   ]
  },
  {
   "cell_type": "markdown",
   "metadata": {},
   "source": [
    "The first grid search used three folds, despite the large data size, to reduce the runtime given the number of parameters we are trying to tune. The first parameter to modify for the next grid search is the number of estimators, since we have modified it most from the default value."
   ]
  },
  {
   "cell_type": "code",
   "execution_count": null,
   "metadata": {},
   "outputs": [],
   "source": [
    "# second grid search\n",
    "params_rf_2 = ({'n_estimators':[50,100,150],\n",
    "                'criterion':['gini', 'entropy'],\n",
    "                'max_depth':[None,2,10],\n",
    "                'min_samples_split':[2,10,15],\n",
    "                'min_samples_leaf':[2,10,15]})\n",
    "\n",
    "rf_gs_2 = GridSearchCV(rf,params_rf_2,cv=3)\n",
    "rf_gs_2.fit(X_train,y_train)"
   ]
  },
  {
   "cell_type": "code",
   "execution_count": null,
   "metadata": {},
   "outputs": [],
   "source": [
    "rf_gs_2.best_params_"
   ]
  },
  {
   "cell_type": "code",
   "execution_count": null,
   "metadata": {},
   "outputs": [],
   "source": [
    "rf_gs_2.best_score_"
   ]
  },
  {
   "cell_type": "code",
   "execution_count": null,
   "metadata": {},
   "outputs": [],
   "source": [
    "# third grid search\n",
    "params_rf_3 = ({'n_estimators':[80,100,130],\n",
    "                'criterion':['gini', 'entropy'],\n",
    "                'max_depth':[None,2,10],\n",
    "                'min_samples_split':[10,15,20],\n",
    "                'min_samples_leaf':[2,5]})\n",
    "\n",
    "rf_gs_3 = GridSearchCV(rf,params_rf_3,cv=3)\n",
    "rf_gs_3.fit(X_train,y_train)"
   ]
  },
  {
   "cell_type": "code",
   "execution_count": null,
   "metadata": {},
   "outputs": [],
   "source": [
    "rf_gs_3.best_params_"
   ]
  },
  {
   "cell_type": "code",
   "execution_count": null,
   "metadata": {},
   "outputs": [],
   "source": [
    "rf_gs_3.best_score_"
   ]
  },
  {
   "cell_type": "code",
   "execution_count": null,
   "metadata": {},
   "outputs": [],
   "source": [
    "# fourth grid search\n",
    "params_rf_4 = ({'n_estimators':[100,130,150],\n",
    "                'criterion':['gini', 'entropy'],\n",
    "                'max_depth':[None,2,10],\n",
    "                'min_samples_split':[15,20,30],\n",
    "                'min_samples_leaf':[2,5]})\n",
    "\n",
    "rf_gs_4 = GridSearchCV(rf,params_rf_4,cv=3)\n",
    "rf_gs_4.fit(X_train,y_train)"
   ]
  },
  {
   "cell_type": "code",
   "execution_count": null,
   "metadata": {},
   "outputs": [],
   "source": [
    "rf_gs_4.best_params_"
   ]
  },
  {
   "cell_type": "code",
   "execution_count": null,
   "metadata": {},
   "outputs": [],
   "source": [
    "rf_gs_4.best_score_"
   ]
  },
  {
   "cell_type": "code",
   "execution_count": null,
   "metadata": {},
   "outputs": [],
   "source": [
    "# fifth grid search\n",
    "params_rf_5 = ({'n_estimators':[130,150,200],\n",
    "                'criterion':['gini', 'entropy'],\n",
    "                'max_depth':[None,10],\n",
    "                'min_samples_split':[15,20,25],\n",
    "                'min_samples_leaf':[2,5]})\n",
    "\n",
    "rf_gs_5 = GridSearchCV(rf,params_rf_5,cv=3)\n",
    "rf_gs_5.fit(X_train,y_train)"
   ]
  },
  {
   "cell_type": "code",
   "execution_count": null,
   "metadata": {},
   "outputs": [],
   "source": [
    "rf_gs_5.best_params_"
   ]
  },
  {
   "cell_type": "code",
   "execution_count": null,
   "metadata": {},
   "outputs": [],
   "source": [
    "rf_gs_5.best_score_"
   ]
  },
  {
   "cell_type": "code",
   "execution_count": null,
   "metadata": {},
   "outputs": [],
   "source": [
    "# sixth grid search\n",
    "params_rf_6 = ({'n_estimators':[150,200,250],\n",
    "                'criterion':['gini', 'entropy'],\n",
    "                'max_depth':[None],\n",
    "                'min_samples_split':[20,25,30],\n",
    "                'min_samples_leaf':[2]})\n",
    "\n",
    "rf_gs_6 = GridSearchCV(rf,params_rf_6,cv=3)\n",
    "rf_gs_6.fit(X_train,y_train)"
   ]
  },
  {
   "cell_type": "code",
   "execution_count": null,
   "metadata": {},
   "outputs": [],
   "source": [
    "rf_gs_6.best_params_"
   ]
  },
  {
   "cell_type": "code",
   "execution_count": null,
   "metadata": {},
   "outputs": [],
   "source": [
    "rf_gs_6.best_score_"
   ]
  },
  {
   "cell_type": "markdown",
   "metadata": {},
   "source": [
    "After six grid searches, the optimizer has come close to appropriate parameters. To finalize the search, the cross-validation folds will be increased and parameter ranges narrowed further."
   ]
  },
  {
   "cell_type": "code",
   "execution_count": null,
   "metadata": {},
   "outputs": [],
   "source": [
    "# seventh grid search\n",
    "params_rf_7 = ({'n_estimators':[180,200,230],\n",
    "                'criterion':['gini', 'entropy'],\n",
    "                'max_depth':[None],\n",
    "                'min_samples_split':[22,25,28],\n",
    "                'min_samples_leaf':[2]})\n",
    "\n",
    "rf_gs_7 = GridSearchCV(rf,params_rf_7,cv=3)\n",
    "rf_gs_7.fit(X_train,y_train)"
   ]
  },
  {
   "cell_type": "code",
   "execution_count": null,
   "metadata": {},
   "outputs": [],
   "source": [
    "rf_gs_7.best_params_"
   ]
  },
  {
   "cell_type": "code",
   "execution_count": null,
   "metadata": {},
   "outputs": [],
   "source": [
    "rf_gs_7.best_score_"
   ]
  },
  {
   "cell_type": "code",
   "execution_count": null,
   "metadata": {},
   "outputs": [],
   "source": [
    "# eigth grid search\n",
    "params_rf_8 = ({'n_estimators':[200,230,245],\n",
    "                'criterion':['gini', 'entropy'],\n",
    "                'max_depth':[None],\n",
    "                'min_samples_split':[22,25,28],\n",
    "                'min_samples_leaf':[2]})\n",
    "\n",
    "rf_gs_8 = GridSearchCV(rf,params_rf_8,cv=3)\n",
    "rf_gs_8.fit(X_train,y_train)"
   ]
  },
  {
   "cell_type": "code",
   "execution_count": null,
   "metadata": {},
   "outputs": [],
   "source": [
    "rf_gs_8.best_params_"
   ]
  },
  {
   "cell_type": "code",
   "execution_count": null,
   "metadata": {},
   "outputs": [],
   "source": [
    "rf_gs_8.best_score_"
   ]
  },
  {
   "cell_type": "code",
   "execution_count": null,
   "metadata": {},
   "outputs": [],
   "source": [
    "# ninth grid search\n",
    "params_rf_9 = ({'n_estimators':[220,230,240],\n",
    "                'criterion':['gini', 'entropy'],\n",
    "                'max_depth':[None],\n",
    "                'min_samples_split':[23,25,27],\n",
    "                'min_samples_leaf':[2]})\n",
    "\n",
    "rf_gs_9 = GridSearchCV(rf,params_rf_9,cv=3)\n",
    "rf_gs_9.fit(X_train,y_train)"
   ]
  },
  {
   "cell_type": "code",
   "execution_count": null,
   "metadata": {},
   "outputs": [],
   "source": [
    "rf_gs_9.best_params_"
   ]
  },
  {
   "cell_type": "code",
   "execution_count": null,
   "metadata": {},
   "outputs": [],
   "source": [
    "rf_gs_9.best_score_"
   ]
  },
  {
   "cell_type": "code",
   "execution_count": null,
   "metadata": {},
   "outputs": [],
   "source": [
    "# tenth grid search\n",
    "params_rf_10 = ({'n_estimators':[200,210,220,230],\n",
    "                'criterion':['gini', 'entropy'],\n",
    "                'max_depth':[None],\n",
    "                'min_samples_split':[25],\n",
    "                'min_samples_leaf':[2]})\n",
    "\n",
    "rf_gs_10 = GridSearchCV(rf,params_rf_10,cv=3)\n",
    "rf_gs_10.fit(X_train,y_train)"
   ]
  },
  {
   "cell_type": "code",
   "execution_count": null,
   "metadata": {},
   "outputs": [],
   "source": [
    "rf_gs_10.best_params_"
   ]
  },
  {
   "cell_type": "code",
   "execution_count": null,
   "metadata": {},
   "outputs": [],
   "source": [
    "rf_gs_10.best_score_"
   ]
  },
  {
   "cell_type": "markdown",
   "metadata": {},
   "source": [
    "As expected, the final random forest model was not much of an improvement over the default one - the cross-validated accuracy increased from about 77% to 78%, which is not much better than the final logistic regression either. However, we can proceed to assess the results of the model and see what, if anything, is different from the logistic regression in terms of variable importance."
   ]
  },
  {
   "cell_type": "code",
   "execution_count": 23,
   "metadata": {},
   "outputs": [],
   "source": [
    "rf_final = RandomForestClassifier(random_state=42,criterion='entropy',max_depth=None,min_samples_leaf=2,\n",
    "                              min_samples_split=25,n_estimators=220)\n",
    "rf_final.fit(X_train,y_train)\n",
    "rf_pred_train = rf_final.predict(X_train)"
   ]
  },
  {
   "cell_type": "code",
   "execution_count": 25,
   "metadata": {},
   "outputs": [
    {
     "data": {
      "text/plain": [
       "0.778796499733687"
      ]
     },
     "execution_count": 25,
     "metadata": {},
     "output_type": "execute_result"
    }
   ],
   "source": [
    "np.mean(cross_val_score(rf_final,X_train,y_train,cv=5))"
   ]
  },
  {
   "cell_type": "code",
   "execution_count": 28,
   "metadata": {},
   "outputs": [
    {
     "name": "stdout",
     "output_type": "stream",
     "text": [
      "Training accuracy score: 0.8339\n",
      "Test accuracy score: 0.7802\n"
     ]
    }
   ],
   "source": [
    "print('Training accuracy score:',round(accuracy_score(rf_pred_train,y_train),4))\n",
    "rf_pred_test = rf_final.predict(X_test)\n",
    "print('Test accuracy score:',round(accuracy_score(rf_pred_test,y_test),4))"
   ]
  },
  {
   "cell_type": "markdown",
   "metadata": {},
   "source": [
    "Here we see an improvement in accuracy over the whole test set, and an accurary score on the test set that is in line with what we saw during cross-validation - so here we can also assume that the effect of overfitting is minimal, if anything."
   ]
  },
  {
   "cell_type": "code",
   "execution_count": 29,
   "metadata": {},
   "outputs": [
    {
     "data": {
      "text/plain": [
       "array([[2239,  616],\n",
       "       [ 547, 1890]])"
      ]
     },
     "execution_count": 29,
     "metadata": {},
     "output_type": "execute_result"
    }
   ],
   "source": [
    "confusion_matrix(rf_pred_test,y_test)"
   ]
  },
  {
   "cell_type": "code",
   "execution_count": 30,
   "metadata": {},
   "outputs": [
    {
     "data": {
      "image/png": "[encoded data removed]",
      "text/plain": [
       "<Figure size 720x1080 with 1 Axes>"
      ]
     },
     "metadata": {
      "needs_background": "light"
     },
     "output_type": "display_data"
    }
   ],
   "source": [
    "feature_importance_rf = pd.DataFrame({'feature':X_train.columns,'importance':rf_final.feature_importances_})\n",
    "\n",
    "f,ax = plt.subplots(figsize=(10,15))\n",
    "sns.barplot(x='importance',y='feature',data=feature_importance_rf,orient='h');"
   ]
  },
  {
   "cell_type": "markdown",
   "metadata": {},
   "source": [
    "Somewhat unsurprisingly, the same features are important predictors in random forests as in logistic regression: doctor recommendation of a flu vaccine, 65+ age group, and a high opinion of vaccine effectiveness. Though this is not altogether surprising, it appears that maximizing the same predictors will lead to roughly the same outcomes and accuracy as logistic regression."
   ]
  },
  {
   "cell_type": "markdown",
   "metadata": {},
   "source": [
    "## Model 3: XGBoost\n",
    "\n",
    "The third model we try will be more experimental than random forests."
   ]
  },
  {
   "cell_type": "code",
   "execution_count": 32,
   "metadata": {},
   "outputs": [],
   "source": [
    "# create matrix of X_train and X_test to avoid model breaking over feature names\n",
    "X_train_xg = np.matrix(X_train)\n",
    "X_test_xg = np.matrix(X_test)"
   ]
  },
  {
   "cell_type": "code",
   "execution_count": 39,
   "metadata": {},
   "outputs": [
    {
     "data": {
      "text/plain": [
       "XGBClassifier(base_score=0.5, booster='gbtree', colsample_bylevel=1,\n",
       "              colsample_bynode=1, colsample_bytree=1, gamma=0, gpu_id=-1,\n",
       "              importance_type='gain', interaction_constraints='',\n",
       "              learning_rate=0.300000012, max_delta_step=0, max_depth=6,\n",
       "              min_child_weight=1, missing=nan, monotone_constraints='()',\n",
       "              n_estimators=100, n_jobs=0, num_parallel_tree=1, random_state=42,\n",
       "              reg_alpha=0, reg_lambda=1, scale_pos_weight=1, subsample=1,\n",
       "              tree_method='exact', validate_parameters=1, verbosity=None)"
      ]
     },
     "execution_count": 39,
     "metadata": {},
     "output_type": "execute_result"
    }
   ],
   "source": [
    "# initialize XGBoost - need to make X into matrix to avoid feature names issue\n",
    "clf = XGBClassifier(random_state=42)\n",
    "clf.fit(X_train_xg,y_train)"
   ]
  },
  {
   "cell_type": "code",
   "execution_count": 34,
   "metadata": {},
   "outputs": [
    {
     "data": {
      "text/plain": [
       "array([0.77184695, 0.77368297, 0.77462792, 0.77439168, 0.76824947])"
      ]
     },
     "execution_count": 34,
     "metadata": {},
     "output_type": "execute_result"
    }
   ],
   "source": [
    "cross_val_score(clf,X_train_xg,y_train,cv=5)"
   ]
  },
  {
   "cell_type": "code",
   "execution_count": 36,
   "metadata": {},
   "outputs": [
    {
     "data": {
      "text/plain": [
       "0.8617594254937163"
      ]
     },
     "execution_count": 36,
     "metadata": {},
     "output_type": "execute_result"
    }
   ],
   "source": [
    "accuracy_score(clf.predict(X_train_xg),y_train)"
   ]
  },
  {
   "cell_type": "code",
   "execution_count": 38,
   "metadata": {},
   "outputs": [
    {
     "data": {
      "text/plain": [
       "0.7653061224489796"
      ]
     },
     "execution_count": 38,
     "metadata": {},
     "output_type": "execute_result"
    }
   ],
   "source": [
    "accuracy_score(clf.predict(X_test_xg),y_test)"
   ]
  },
  {
   "cell_type": "markdown",
   "metadata": {},
   "source": [
    "We see from the default XGBoost model score that it is roughly in line with other models we have tried. So again, we will use model tuning to see if we can improve predict results on the test set.\n",
    "\n",
    "From looking at the classifier documentation, there are a lot of parameters that can be modified. "
   ]
  },
  {
   "cell_type": "code",
   "execution_count": 40,
   "metadata": {},
   "outputs": [
    {
     "data": {
      "text/plain": [
       "GridSearchCV(cv=3,\n",
       "             estimator=XGBClassifier(base_score=0.5, booster='gbtree',\n",
       "                                     colsample_bylevel=1, colsample_bynode=1,\n",
       "                                     colsample_bytree=1, gamma=0, gpu_id=-1,\n",
       "                                     importance_type='gain',\n",
       "                                     interaction_constraints='',\n",
       "                                     learning_rate=0.300000012,\n",
       "                                     max_delta_step=0, max_depth=6,\n",
       "                                     min_child_weight=1, missing=nan,\n",
       "                                     monotone_constraints='()',\n",
       "                                     n_estimators=100, n_jobs=0,\n",
       "                                     num_parallel_tree=1, random_state=42,\n",
       "                                     reg_alpha=0, reg_lambda=1,\n",
       "                                     scale_pos_weight=1, subsample=1,\n",
       "                                     tree_method='exact', validate_parameters=1,\n",
       "                                     verbosity=None),\n",
       "             param_grid={'learning_rate': [0.1, 0.5, 0.9], 'max_depth': [6],\n",
       "                         'min_child_weight': [1, 2],\n",
       "                         'n_estimators': [50, 100, 150],\n",
       "                         'subsample': [0.5, 0.7]})"
      ]
     },
     "execution_count": 40,
     "metadata": {},
     "output_type": "execute_result"
    }
   ],
   "source": [
    "# first xgb grid search\n",
    "params_xg_1 = {\n",
    "    'learning_rate': [0.1,0.5,0.9],\n",
    "    'max_depth': [6],\n",
    "    'min_child_weight': [1, 2],\n",
    "    'subsample': [0.5, 0.7],\n",
    "    'n_estimators': [50,100,150],\n",
    "}\n",
    "\n",
    "xg_gs_1 = GridSearchCV(clf,params_xg_1,cv=3)\n",
    "xg_gs_1.fit(X_train_xg,y_train)"
   ]
  },
  {
   "cell_type": "code",
   "execution_count": 41,
   "metadata": {},
   "outputs": [
    {
     "data": {
      "text/plain": [
       "{'learning_rate': 0.1,\n",
       " 'max_depth': 6,\n",
       " 'min_child_weight': 2,\n",
       " 'n_estimators': 50,\n",
       " 'subsample': 0.7}"
      ]
     },
     "execution_count": 41,
     "metadata": {},
     "output_type": "execute_result"
    }
   ],
   "source": [
    "xg_gs_1.best_params_"
   ]
  },
  {
   "cell_type": "code",
   "execution_count": 42,
   "metadata": {},
   "outputs": [
    {
     "data": {
      "text/plain": [
       "0.781631112953883"
      ]
     },
     "execution_count": 42,
     "metadata": {},
     "output_type": "execute_result"
    }
   ],
   "source": [
    "xg_gs_1.best_score_"
   ]
  },
  {
   "cell_type": "code",
   "execution_count": 48,
   "metadata": {},
   "outputs": [
    {
     "data": {
      "text/plain": [
       "GridSearchCV(cv=3,\n",
       "             estimator=XGBClassifier(base_score=0.5, booster='gbtree',\n",
       "                                     colsample_bylevel=1, colsample_bynode=1,\n",
       "                                     colsample_bytree=1, gamma=0, gpu_id=-1,\n",
       "                                     importance_type='gain',\n",
       "                                     interaction_constraints='',\n",
       "                                     learning_rate=0.300000012,\n",
       "                                     max_delta_step=0, max_depth=6,\n",
       "                                     min_child_weight=1, missing=nan,\n",
       "                                     monotone_constraints='()',\n",
       "                                     n_estimators=100, n_jobs=0,\n",
       "                                     num_parallel_tree=1, random_state=42,\n",
       "                                     reg_alpha=0, reg_lambda=1,\n",
       "                                     scale_pos_weight=1, subsample=1,\n",
       "                                     tree_method='exact', validate_parameters=1,\n",
       "                                     verbosity=None),\n",
       "             param_grid={'learning_rate': [0.1, 0.3], 'max_depth': [6],\n",
       "                         'min_child_weight': [1, 2],\n",
       "                         'n_estimators': [30, 50, 100],\n",
       "                         'subsample': [0.5, 0.7]})"
      ]
     },
     "execution_count": 48,
     "metadata": {},
     "output_type": "execute_result"
    }
   ],
   "source": [
    "# second xgb grid search\n",
    "params_xg_2 = {\n",
    "    'learning_rate': [0.1,0.3],\n",
    "    'max_depth': [6],\n",
    "    'min_child_weight': [1, 2],\n",
    "    'subsample': [0.5, 0.7],\n",
    "    'n_estimators': [30,50,100],\n",
    "}\n",
    "\n",
    "xg_gs_2 = GridSearchCV(clf,params_xg_2,cv=3)\n",
    "xg_gs_2.fit(X_train_xg,y_train)"
   ]
  },
  {
   "cell_type": "code",
   "execution_count": 49,
   "metadata": {},
   "outputs": [
    {
     "data": {
      "text/plain": [
       "{'learning_rate': 0.1,\n",
       " 'max_depth': 6,\n",
       " 'min_child_weight': 2,\n",
       " 'n_estimators': 50,\n",
       " 'subsample': 0.7}"
      ]
     },
     "execution_count": 49,
     "metadata": {},
     "output_type": "execute_result"
    }
   ],
   "source": [
    "xg_gs_2.best_params_"
   ]
  },
  {
   "cell_type": "code",
   "execution_count": 50,
   "metadata": {},
   "outputs": [
    {
     "data": {
      "text/plain": [
       "0.781631112953883"
      ]
     },
     "execution_count": 50,
     "metadata": {},
     "output_type": "execute_result"
    }
   ],
   "source": [
    "xg_gs_2.best_score_"
   ]
  },
  {
   "cell_type": "code",
   "execution_count": 51,
   "metadata": {},
   "outputs": [
    {
     "data": {
      "text/plain": [
       "GridSearchCV(cv=3,\n",
       "             estimator=XGBClassifier(base_score=0.5, booster='gbtree',\n",
       "                                     colsample_bylevel=1, colsample_bynode=1,\n",
       "                                     colsample_bytree=1, gamma=0, gpu_id=-1,\n",
       "                                     importance_type='gain',\n",
       "                                     interaction_constraints='',\n",
       "                                     learning_rate=0.300000012,\n",
       "                                     max_delta_step=0, max_depth=6,\n",
       "                                     min_child_weight=1, missing=nan,\n",
       "                                     monotone_constraints='()',\n",
       "                                     n_estimators=100, n_jobs=0,\n",
       "                                     num_parallel_tree=1, random_state=42,\n",
       "                                     reg_alpha=0, reg_lambda=1,\n",
       "                                     scale_pos_weight=1, subsample=1,\n",
       "                                     tree_method='exact', validate_parameters=1,\n",
       "                                     verbosity=None),\n",
       "             param_grid={'learning_rate': [0.1, 0.3], 'max_depth': [6],\n",
       "                         'min_child_weight': [2, 3],\n",
       "                         'n_estimators': [30, 50, 80],\n",
       "                         'subsample': [0.5, 0.7]})"
      ]
     },
     "execution_count": 51,
     "metadata": {},
     "output_type": "execute_result"
    }
   ],
   "source": [
    "# third xgb grid search\n",
    "params_xg_3 = {\n",
    "    'learning_rate': [0.1,0.3],\n",
    "    'max_depth': [6],\n",
    "    'min_child_weight': [2,3],\n",
    "    'subsample': [0.5, 0.7],\n",
    "    'n_estimators': [30,50,80],\n",
    "}\n",
    "\n",
    "xg_gs_3 = GridSearchCV(clf,params_xg_3,cv=3)\n",
    "xg_gs_3.fit(X_train_xg,y_train)"
   ]
  },
  {
   "cell_type": "code",
   "execution_count": 52,
   "metadata": {},
   "outputs": [
    {
     "data": {
      "text/plain": [
       "{'learning_rate': 0.1,\n",
       " 'max_depth': 6,\n",
       " 'min_child_weight': 2,\n",
       " 'n_estimators': 50,\n",
       " 'subsample': 0.7}"
      ]
     },
     "execution_count": 52,
     "metadata": {},
     "output_type": "execute_result"
    }
   ],
   "source": [
    "xg_gs_3.best_params_"
   ]
  },
  {
   "cell_type": "code",
   "execution_count": 53,
   "metadata": {},
   "outputs": [
    {
     "data": {
      "text/plain": [
       "0.781631112953883"
      ]
     },
     "execution_count": 53,
     "metadata": {},
     "output_type": "execute_result"
    }
   ],
   "source": [
    "xg_gs_3.best_score_"
   ]
  },
  {
   "cell_type": "markdown",
   "metadata": {},
   "source": [
    "With some of the initial parameter options converging quickly, the next step is to try to increase the max depth of the trees, which is more time intensive."
   ]
  },
  {
   "cell_type": "code",
   "execution_count": 54,
   "metadata": {},
   "outputs": [
    {
     "data": {
      "text/plain": [
       "GridSearchCV(cv=3,\n",
       "             estimator=XGBClassifier(base_score=0.5, booster='gbtree',\n",
       "                                     colsample_bylevel=1, colsample_bynode=1,\n",
       "                                     colsample_bytree=1, gamma=0, gpu_id=-1,\n",
       "                                     importance_type='gain',\n",
       "                                     interaction_constraints='',\n",
       "                                     learning_rate=0.300000012,\n",
       "                                     max_delta_step=0, max_depth=6,\n",
       "                                     min_child_weight=1, missing=nan,\n",
       "                                     monotone_constraints='()',\n",
       "                                     n_estimators=100, n_jobs=0,\n",
       "                                     num_parallel_tree=1, random_state=42,\n",
       "                                     reg_alpha=0, reg_lambda=1,\n",
       "                                     scale_pos_weight=1, subsample=1,\n",
       "                                     tree_method='exact', validate_parameters=1,\n",
       "                                     verbosity=None),\n",
       "             param_grid={'learning_rate': [0.1], 'max_depth': [6, 10, 15],\n",
       "                         'min_child_weight': [2], 'n_estimators': [30, 50, 80],\n",
       "                         'subsample': [0.7]})"
      ]
     },
     "execution_count": 54,
     "metadata": {},
     "output_type": "execute_result"
    }
   ],
   "source": [
    "# fourth xgb grid search\n",
    "params_xg_4 = {\n",
    "    'learning_rate': [0.1],\n",
    "    'max_depth': [6,10,15],\n",
    "    'min_child_weight': [2],\n",
    "    'subsample': [0.7],\n",
    "    'n_estimators': [30,50,80],\n",
    "}\n",
    "\n",
    "xg_gs_4 = GridSearchCV(clf,params_xg_4,cv=3)\n",
    "xg_gs_4.fit(X_train_xg,y_train)"
   ]
  },
  {
   "cell_type": "code",
   "execution_count": 55,
   "metadata": {},
   "outputs": [
    {
     "data": {
      "text/plain": [
       "{'learning_rate': 0.1,\n",
       " 'max_depth': 6,\n",
       " 'min_child_weight': 2,\n",
       " 'n_estimators': 50,\n",
       " 'subsample': 0.7}"
      ]
     },
     "execution_count": 55,
     "metadata": {},
     "output_type": "execute_result"
    }
   ],
   "source": [
    "xg_gs_4.best_params_"
   ]
  },
  {
   "cell_type": "code",
   "execution_count": 56,
   "metadata": {},
   "outputs": [
    {
     "data": {
      "text/plain": [
       "0.781631112953883"
      ]
     },
     "execution_count": 56,
     "metadata": {},
     "output_type": "execute_result"
    }
   ],
   "source": [
    "xg_gs_4.best_score_"
   ]
  },
  {
   "cell_type": "markdown",
   "metadata": {},
   "source": [
    "At this point in the grid search process, results seem to have plateaued. Because of this, we will keep the parameters as found so far and try to search through a few more advanced parameters as the model allows."
   ]
  },
  {
   "cell_type": "code",
   "execution_count": 62,
   "metadata": {},
   "outputs": [
    {
     "data": {
      "text/plain": [
       "GridSearchCV(cv=3,\n",
       "             estimator=XGBClassifier(base_score=0.5, booster='gbtree',\n",
       "                                     colsample_bylevel=1, colsample_bynode=1,\n",
       "                                     colsample_bytree=1, gamma=0, gpu_id=-1,\n",
       "                                     importance_type='gain',\n",
       "                                     interaction_constraints='',\n",
       "                                     learning_rate=0.300000012,\n",
       "                                     max_delta_step=0, max_depth=6,\n",
       "                                     min_child_weight=1, missing=nan,\n",
       "                                     monotone_constraints='()',\n",
       "                                     n_estimators=100, n_jobs=0,\n",
       "                                     num_parallel_tree=1, random_state=42,\n",
       "                                     reg_alpha=0, reg_lambda=1,\n",
       "                                     scale_pos_weight=1, subsample=1,\n",
       "                                     tree_method='exact', validate_parameters=1,\n",
       "                                     verbosity=None),\n",
       "             param_grid={'learning_rate': [0.1], 'max_delta_step': [0, 1, 2],\n",
       "                         'max_depth': [6], 'min_child_weight': [2],\n",
       "                         'n_estimators': [50], 'subsample': [0.7]})"
      ]
     },
     "execution_count": 62,
     "metadata": {},
     "output_type": "execute_result"
    }
   ],
   "source": [
    "# fifth xgb grid search\n",
    "params_xg_5 = {\n",
    "    'learning_rate': [0.1],\n",
    "    'max_depth': [6],\n",
    "    'min_child_weight': [2],\n",
    "    'subsample': [0.7],\n",
    "    'n_estimators': [50]\n",
    "}\n",
    "\n",
    "xg_gs_5 = GridSearchCV(clf,params_xg_5,cv=3)\n",
    "xg_gs_5.fit(X_train_xg,y_train)"
   ]
  },
  {
   "cell_type": "code",
   "execution_count": 63,
   "metadata": {},
   "outputs": [
    {
     "data": {
      "text/plain": [
       "{'learning_rate': 0.1,\n",
       " 'max_delta_step': 0,\n",
       " 'max_depth': 6,\n",
       " 'min_child_weight': 2,\n",
       " 'n_estimators': 50,\n",
       " 'subsample': 0.7}"
      ]
     },
     "execution_count": 63,
     "metadata": {},
     "output_type": "execute_result"
    }
   ],
   "source": [
    "xg_gs_5.best_params_"
   ]
  },
  {
   "cell_type": "code",
   "execution_count": 61,
   "metadata": {},
   "outputs": [
    {
     "data": {
      "text/plain": [
       "0.781631112953883"
      ]
     },
     "execution_count": 61,
     "metadata": {},
     "output_type": "execute_result"
    }
   ],
   "source": [
    "xg_gs_5.best_score_"
   ]
  },
  {
   "cell_type": "code",
   "execution_count": 64,
   "metadata": {},
   "outputs": [
    {
     "data": {
      "text/plain": [
       "XGBClassifier(base_score=0.5, booster='gbtree', colsample_bylevel=1,\n",
       "              colsample_bynode=1, colsample_bytree=1, gamma=0, gpu_id=-1,\n",
       "              importance_type='gain', interaction_constraints='',\n",
       "              learning_rate=0.1, max_delta_step=0, max_depth=6,\n",
       "              min_child_weight=2, missing=nan, monotone_constraints='()',\n",
       "              n_estimators=50, n_jobs=0, num_parallel_tree=1, random_state=42,\n",
       "              reg_alpha=0, reg_lambda=1, scale_pos_weight=1, subsample=0.7,\n",
       "              tree_method='exact', validate_parameters=1, verbosity=None)"
      ]
     },
     "execution_count": 64,
     "metadata": {},
     "output_type": "execute_result"
    }
   ],
   "source": [
    "xg_final = XGBClassifier(random_state=42,learning_rate=0.1,max_depth=6,min_child_weight=2,n_estimators=50,\n",
    "                        subsample=0.7)\n",
    "xg_final.fit(X_train_xg,y_train)"
   ]
  },
  {
   "cell_type": "code",
   "execution_count": 65,
   "metadata": {},
   "outputs": [
    {
     "data": {
      "text/plain": [
       "0.7787019371492472"
      ]
     },
     "execution_count": 65,
     "metadata": {},
     "output_type": "execute_result"
    }
   ],
   "source": [
    "np.mean(cross_val_score(xg_final,X_train_xg,y_train,cv=5))"
   ]
  },
  {
   "cell_type": "code",
   "execution_count": 69,
   "metadata": {},
   "outputs": [
    {
     "name": "stdout",
     "output_type": "stream",
     "text": [
      "Training accuracy score: 0.8025\n",
      "Test accuracy score: 0.7829\n"
     ]
    }
   ],
   "source": [
    "print('Training accuracy score:',round(accuracy_score(xg_final.predict(X_train_xg),y_train),4))\n",
    "print('Test accuracy score:',round(accuracy_score(xg_final.predict(X_test_xg),y_test),4))"
   ]
  },
  {
   "cell_type": "code",
   "execution_count": 70,
   "metadata": {},
   "outputs": [
    {
     "data": {
      "image/png": "[encoded data removed]",
      "text/plain": [
       "<Figure size 720x1080 with 1 Axes>"
      ]
     },
     "metadata": {
      "needs_background": "light"
     },
     "output_type": "display_data"
    }
   ],
   "source": [
    "feature_importance_xg = pd.DataFrame({'feature':X_train.columns,'importance':xg_final.feature_importances_})\n",
    "\n",
    "f,ax = plt.subplots(figsize=(10,15))\n",
    "sns.barplot(x='importance',y='feature',data=feature_importance_xg,orient='h');"
   ]
  },
  {
   "cell_type": "markdown",
   "metadata": {},
   "source": [
    "## Model Analysis and Business Recommendations"
   ]
  },
  {
   "cell_type": "code",
   "execution_count": null,
   "metadata": {},
   "outputs": [],
   "source": []
  }
 ],
 "metadata": {
  "kernelspec": {
   "display_name": "Python (learn-env)",
   "language": "python",
   "name": "learn-env"
  },
  "language_info": {
   "codemirror_mode": {
    "name": "ipython",
    "version": 3
   },
   "file_extension": ".py",
   "mimetype": "text/x-python",
   "name": "python",
   "nbconvert_exporter": "python",
   "pygments_lexer": "ipython3",
   "version": "3.8.5"
  }
 },
 "nbformat": 4,
 "nbformat_minor": 4
}
